{
 "cells": [
  {
   "cell_type": "code",
   "execution_count": 10,
   "id": "c0b483d9-3b3b-48aa-9037-d8f3e036ace6",
   "metadata": {
    "tags": []
   },
   "outputs": [],
   "source": [
    "import numpy as np\n",
    "import pandas as pd\n",
    "import pathlib"
   ]
  },
  {
   "cell_type": "code",
   "execution_count": 2,
   "id": "3e302aea-f485-4e9a-a60b-eb6bf021c035",
   "metadata": {
    "tags": []
   },
   "outputs": [],
   "source": [
    "path_embs = pathlib.Path(\"/export/usuarios_ml4ds/lbartolome/NextProcurement/NP-Backend-Dockers/data/source/Mallet_5_topics/model_data/TMmodel/tpc_embeddings.npy\")\n",
    "path_betas = pathlib.Path(\"/export/usuarios_ml4ds/lbartolome/NextProcurement/NP-Backend-Dockers/data/source/Mallet_5_topics/model_data/TMmodel/betas.npy\")\n",
    "path_betas_ds = pathlib.Path(\"/export/usuarios_ml4ds/lbartolome/NextProcurement/NP-Backend-Dockers/data/source/Mallet_5_topics/model_data/TMmodel/betas_ds.npy\")\n",
    "path_alphas = pathlib.Path(\"/export/usuarios_ml4ds/lbartolome/NextProcurement/NP-Backend-Dockers/data/source/Mallet_5_topics/model_data/TMmodel/alphas.npy\")\n",
    "path_entr = pathlib.Path(\"/export/usuarios_ml4ds/lbartolome/NextProcurement/NP-Backend-Dockers/data/source/Mallet_5_topics/model_data/TMmodel/topic_entropy.npy\")\n",
    "path_cohr = pathlib.Path(\"/export/usuarios_ml4ds/lbartolome/NextProcurement/NP-Backend-Dockers/data/source/Mallet_5_topics/model_data/TMmodel/topic_coherence.npy\")\n",
    "path_active = pathlib.Path(\"/export/usuarios_ml4ds/lbartolome/NextProcurement/NP-Backend-Dockers/data/source/Mallet_5_topics/model_data/TMmodel/ndocs_active.npy\")\n",
    "path_desc = pathlib.Path(\"/export/usuarios_ml4ds/lbartolome/NextProcurement/NP-Backend-Dockers/data/source/Mallet_5_topics/model_data/TMmodel/tpc_descriptions.txt\")\n",
    "path_labels = pathlib.Path(\"/export/usuarios_ml4ds/lbartolome/NextProcurement/NP-Backend-Dockers/data/source/Mallet_5_topics/model_data/TMmodel/tpc_labels.txt\")"
   ]
  },
  {
   "cell_type": "code",
   "execution_count": 63,
   "id": "6fd5b118-c341-4deb-81a0-91342dab182b",
   "metadata": {
    "tags": []
   },
   "outputs": [],
   "source": [
    "tpc_embeddings = np.load(path_embs, allow_pickle=True)\n",
    "betas = np.load(path_betas)\n",
    "betas_ds = np.load(path_betas_ds)\n",
    "alphas = np.load(path_alphas)\n",
    "topic_entropy = np.load(path_entr)\n",
    "topic_coherence = np.load(path_cohr)\n",
    "ndocs_active = np.load(path_active)"
   ]
  },
  {
   "cell_type": "code",
   "execution_count": 61,
   "id": "1abb2293-4ec6-4eee-af05-9c7de399465f",
   "metadata": {
    "tags": []
   },
   "outputs": [],
   "source": [
    "with path_desc.open('r', encoding='utf8') as fin:\n",
    "    tpc_descriptions = [el.strip() for el in fin.readlines()]\n",
    "with path_labels.open('r', encoding='utf8') as fin:\n",
    "    tpc_labels = [el.strip() for el in fin.readlines()]"
   ]
  },
  {
   "cell_type": "code",
   "execution_count": 81,
   "id": "426a00da-9147-49c2-bf12-9def4ee925a7",
   "metadata": {
    "tags": []
   },
   "outputs": [
    {
     "data": {
      "text/html": [
       "<div>\n",
       "<style scoped>\n",
       "    .dataframe tbody tr th:only-of-type {\n",
       "        vertical-align: middle;\n",
       "    }\n",
       "\n",
       "    .dataframe tbody tr th {\n",
       "        vertical-align: top;\n",
       "    }\n",
       "\n",
       "    .dataframe thead th {\n",
       "        text-align: right;\n",
       "    }\n",
       "</style>\n",
       "<table border=\"1\" class=\"dataframe\">\n",
       "  <thead>\n",
       "    <tr style=\"text-align: right;\">\n",
       "      <th></th>\n",
       "      <th>betas</th>\n",
       "      <th>betas_ds</th>\n",
       "      <th>alphas</th>\n",
       "      <th>topic_entropy</th>\n",
       "      <th>topic_coherence</th>\n",
       "      <th>ndocs_active</th>\n",
       "      <th>tpc_descriptions</th>\n",
       "      <th>tpc_labels</th>\n",
       "      <th>tpc_embeddings</th>\n",
       "    </tr>\n",
       "  </thead>\n",
       "  <tbody>\n",
       "    <tr>\n",
       "      <th>0</th>\n",
       "      <td>[[1e-12, 1e-12, 0.0036900369013690036, 0.00738...</td>\n",
       "      <td>[[-4.660057555143645e-12, -4.660057555143645e-...</td>\n",
       "      <td>[0.5106192, 0.23153807, 0.13508955, 0.09219745...</td>\n",
       "      <td>[0.8674409391103166, 0.7967554736536183, 0.709...</td>\n",
       "      <td>[nan, nan, nan, nan, nan]</td>\n",
       "      <td>[41, 41, 41, 41, 41]</td>\n",
       "      <td>[obra, suministro, junta, vehículo, gerencia, ...</td>\n",
       "      <td>[Gestión de Proyectos y Suministros, Servicios...</td>\n",
       "      <td>[[[0.11438227075940141, -0.00625470273483258, ...</td>\n",
       "    </tr>\n",
       "  </tbody>\n",
       "</table>\n",
       "</div>"
      ],
      "text/plain": [
       "                                               betas  \\\n",
       "0  [[1e-12, 1e-12, 0.0036900369013690036, 0.00738...   \n",
       "\n",
       "                                            betas_ds  \\\n",
       "0  [[-4.660057555143645e-12, -4.660057555143645e-...   \n",
       "\n",
       "                                              alphas  \\\n",
       "0  [0.5106192, 0.23153807, 0.13508955, 0.09219745...   \n",
       "\n",
       "                                       topic_entropy  \\\n",
       "0  [0.8674409391103166, 0.7967554736536183, 0.709...   \n",
       "\n",
       "             topic_coherence          ndocs_active  \\\n",
       "0  [nan, nan, nan, nan, nan]  [41, 41, 41, 41, 41]   \n",
       "\n",
       "                                    tpc_descriptions  \\\n",
       "0  [obra, suministro, junta, vehículo, gerencia, ...   \n",
       "\n",
       "                                          tpc_labels  \\\n",
       "0  [Gestión de Proyectos y Suministros, Servicios...   \n",
       "\n",
       "                                      tpc_embeddings  \n",
       "0  [[[0.11438227075940141, -0.00625470273483258, ...  "
      ]
     },
     "execution_count": 81,
     "metadata": {},
     "output_type": "execute_result"
    }
   ],
   "source": [
    "data = {\n",
    "    \"betas\": [betas],\n",
    "    \"betas_ds\": [betas_ds],\n",
    "    \"alphas\": [alphas],\n",
    "    \"topic_entropy\": [topic_entropy],\n",
    "    \"topic_coherence\": [topic_coherence],\n",
    "    \"ndocs_active\": [ndocs_active],\n",
    "    \"tpc_descriptions\": [tpc_descriptions],\n",
    "    \"tpc_labels\": [tpc_labels],\n",
    "    \"tpc_embeddings\": [tpc_embeddings]\n",
    "}\n",
    "df = pd.DataFrame(data)\n",
    "df"
   ]
  },
  {
   "cell_type": "code",
   "execution_count": 82,
   "id": "62186295-cd90-4a10-8094-0223dbf29bc5",
   "metadata": {
    "tags": []
   },
   "outputs": [
    {
     "data": {
      "text/html": [
       "<div>\n",
       "<style scoped>\n",
       "    .dataframe tbody tr th:only-of-type {\n",
       "        vertical-align: middle;\n",
       "    }\n",
       "\n",
       "    .dataframe tbody tr th {\n",
       "        vertical-align: top;\n",
       "    }\n",
       "\n",
       "    .dataframe thead th {\n",
       "        text-align: right;\n",
       "    }\n",
       "</style>\n",
       "<table border=\"1\" class=\"dataframe\">\n",
       "  <thead>\n",
       "    <tr style=\"text-align: right;\">\n",
       "      <th></th>\n",
       "      <th>betas</th>\n",
       "      <th>betas_ds</th>\n",
       "      <th>alphas</th>\n",
       "      <th>topic_entropy</th>\n",
       "      <th>topic_coherence</th>\n",
       "      <th>ndocs_active</th>\n",
       "      <th>tpc_descriptions</th>\n",
       "      <th>tpc_labels</th>\n",
       "      <th>tpc_embeddings</th>\n",
       "    </tr>\n",
       "  </thead>\n",
       "  <tbody>\n",
       "    <tr>\n",
       "      <th>0</th>\n",
       "      <td>[1e-12, 1e-12, 0.0036900369013690036, 0.007380...</td>\n",
       "      <td>[-4.660057555143645e-12, -4.660057555143645e-1...</td>\n",
       "      <td>0.510619</td>\n",
       "      <td>0.867441</td>\n",
       "      <td>NaN</td>\n",
       "      <td>41</td>\n",
       "      <td>obra, suministro, junta, vehículo, gerencia, s...</td>\n",
       "      <td>Gestión de Proyectos y Suministros</td>\n",
       "      <td>[[0.11438227075940141, -0.00625470273483258, 0...</td>\n",
       "    </tr>\n",
       "    <tr>\n",
       "      <th>0</th>\n",
       "      <td>[1e-12, 1e-12, 1e-12, 1e-12, 1e-12, 1e-12, 1e-...</td>\n",
       "      <td>[-4.660057555143645e-12, -4.660057555143645e-1...</td>\n",
       "      <td>0.231538</td>\n",
       "      <td>0.796755</td>\n",
       "      <td>NaN</td>\n",
       "      <td>41</td>\n",
       "      <td>diputación, provincial, reparación, mejora, ex...</td>\n",
       "      <td>Servicios de Salud y Construcción Provincial</td>\n",
       "      <td>[[0.11068982086502589, 0.014277506368951155, 0...</td>\n",
       "    </tr>\n",
       "    <tr>\n",
       "      <th>0</th>\n",
       "      <td>[0.013157894737842105, 0.013157894737842105, 1...</td>\n",
       "      <td>[0.24526618713146356, 0.24526618713146356, -4....</td>\n",
       "      <td>0.13509</td>\n",
       "      <td>0.70979</td>\n",
       "      <td>NaN</td>\n",
       "      <td>41</td>\n",
       "      <td>acción, gerencia, instalación, dirección, mani...</td>\n",
       "      <td>Dirección de Instalaciones y Espacios Culturales</td>\n",
       "      <td>[[0.13324207812547684, -0.0062464195976240765,...</td>\n",
       "    </tr>\n",
       "    <tr>\n",
       "      <th>0</th>\n",
       "      <td>[1e-12, 1e-12, 1e-12, 1e-12, 1e-12, 1e-12, 1e-...</td>\n",
       "      <td>[-4.660057555143645e-12, -4.660057555143645e-1...</td>\n",
       "      <td>0.092197</td>\n",
       "      <td>0.615176</td>\n",
       "      <td>NaN</td>\n",
       "      <td>41</td>\n",
       "      <td>territorio, seguridad-social, centro, direcció...</td>\n",
       "      <td>Gestión Territorial y Seguridad Social</td>\n",
       "      <td>[[0.13650429472327233, 0.010942901339876698, 0...</td>\n",
       "    </tr>\n",
       "    <tr>\n",
       "      <th>0</th>\n",
       "      <td>[1e-12, 1e-12, 1e-12, 1e-12, 1e-12, 1e-12, 1e-...</td>\n",
       "      <td>[-4.660057555143645e-12, -4.660057555143645e-1...</td>\n",
       "      <td>0.030556</td>\n",
       "      <td>0.387801</td>\n",
       "      <td>NaN</td>\n",
       "      <td>41</td>\n",
       "      <td>marca, vigilancia, referir, dual, asist, insti...</td>\n",
       "      <td>Investigación y Desarrollo en el Instituto Mur...</td>\n",
       "      <td>[[0.11428502574563026, -0.005762457818491384, ...</td>\n",
       "    </tr>\n",
       "  </tbody>\n",
       "</table>\n",
       "</div>"
      ],
      "text/plain": [
       "                                               betas  \\\n",
       "0  [1e-12, 1e-12, 0.0036900369013690036, 0.007380...   \n",
       "0  [1e-12, 1e-12, 1e-12, 1e-12, 1e-12, 1e-12, 1e-...   \n",
       "0  [0.013157894737842105, 0.013157894737842105, 1...   \n",
       "0  [1e-12, 1e-12, 1e-12, 1e-12, 1e-12, 1e-12, 1e-...   \n",
       "0  [1e-12, 1e-12, 1e-12, 1e-12, 1e-12, 1e-12, 1e-...   \n",
       "\n",
       "                                            betas_ds    alphas topic_entropy  \\\n",
       "0  [-4.660057555143645e-12, -4.660057555143645e-1...  0.510619      0.867441   \n",
       "0  [-4.660057555143645e-12, -4.660057555143645e-1...  0.231538      0.796755   \n",
       "0  [0.24526618713146356, 0.24526618713146356, -4....   0.13509       0.70979   \n",
       "0  [-4.660057555143645e-12, -4.660057555143645e-1...  0.092197      0.615176   \n",
       "0  [-4.660057555143645e-12, -4.660057555143645e-1...  0.030556      0.387801   \n",
       "\n",
       "  topic_coherence ndocs_active  \\\n",
       "0             NaN           41   \n",
       "0             NaN           41   \n",
       "0             NaN           41   \n",
       "0             NaN           41   \n",
       "0             NaN           41   \n",
       "\n",
       "                                    tpc_descriptions  \\\n",
       "0  obra, suministro, junta, vehículo, gerencia, s...   \n",
       "0  diputación, provincial, reparación, mejora, ex...   \n",
       "0  acción, gerencia, instalación, dirección, mani...   \n",
       "0  territorio, seguridad-social, centro, direcció...   \n",
       "0  marca, vigilancia, referir, dual, asist, insti...   \n",
       "\n",
       "                                          tpc_labels  \\\n",
       "0                 Gestión de Proyectos y Suministros   \n",
       "0       Servicios de Salud y Construcción Provincial   \n",
       "0   Dirección de Instalaciones y Espacios Culturales   \n",
       "0             Gestión Territorial y Seguridad Social   \n",
       "0  Investigación y Desarrollo en el Instituto Mur...   \n",
       "\n",
       "                                      tpc_embeddings  \n",
       "0  [[0.11438227075940141, -0.00625470273483258, 0...  \n",
       "0  [[0.11068982086502589, 0.014277506368951155, 0...  \n",
       "0  [[0.13324207812547684, -0.0062464195976240765,...  \n",
       "0  [[0.13650429472327233, 0.010942901339876698, 0...  \n",
       "0  [[0.11428502574563026, -0.005762457818491384, ...  "
      ]
     },
     "execution_count": 82,
     "metadata": {},
     "output_type": "execute_result"
    }
   ],
   "source": [
    "df = df.apply(pd.Series.explode)\n",
    "df"
   ]
  },
  {
   "cell_type": "code",
   "execution_count": 83,
   "id": "075e65e6-62dd-4c88-925d-e7d700f7216e",
   "metadata": {
    "tags": []
   },
   "outputs": [],
   "source": [
    "def get_topic_embeddings(vector):\n",
    "\n",
    "    repr = \" \".join(\n",
    "        [f\"{idx}:{val}\" for idx, val in enumerate(vector[0])]).rstrip()\n",
    "\n",
    "    return repr"
   ]
  },
  {
   "cell_type": "code",
   "execution_count": 84,
   "id": "14f1a730-331c-4d44-89d1-49acf52ef45f",
   "metadata": {
    "tags": []
   },
   "outputs": [],
   "source": [
    "df[\"tpc_embeddings\"] = df[\"tpc_embeddings\"].apply(get_topic_embeddings)"
   ]
  },
  {
   "cell_type": "code",
   "execution_count": 86,
   "id": "f7620286-d9ee-40aa-9768-305d81743e15",
   "metadata": {
    "tags": []
   },
   "outputs": [
    {
     "data": {
      "text/plain": [
       "'0:0.11438227075940141 1:-0.00625470273483258 2:0.037648712356503196 3:0.010613692064697925 4:-0.07637584076907772 5:0.05268741945306269 6:0.03016388273009887 7:0.11461486291283599 8:-0.0928120449758493 9:-0.03433409361885144 10:-0.08769322358644925 11:0.11173499427520885 12:0.03742100398700971 13:0.1946132039794555 14:-0.020325229789775152 15:-0.09680252550886227 16:0.04385074543265196 17:-0.11636418813409713 18:-0.052864267132603206 19:0.12464432719235237 20:0.04685192248927286 21:0.09748443230413474 22:-0.10795366907349 23:0.06726222256055245 24:0.07550983216900092 25:0.21117427887824866 26:-0.18265566401756728 27:0.28363031034286207 28:0.11190482515555161 29:-0.12414236223468414 30:0.06782781479593653 31:-0.11988072985639939 32:-0.002629989270085039 33:-0.05686030923747099 34:-0.0870140208504521 35:0.03341726767114149 36:0.16139976092829153 37:-0.17683936111055887 38:0.005586716310622601 39:0.08973074417847854 40:-0.056321228066316016 41:0.0014975959829126413 42:0.15364325291906986 43:-0.05098557887742153 44:-0.07719316003987423 45:0.03775511669944255 46:0.030406836277017228 47:0.11266484322886054 48:0.3162592603610112 49:-0.03892732254014565 50:-0.04296199497408592 51:-0.26042911868828994 52:-0.04725948531323901 53:-0.058542840755902804 54:0.0549647208983795 55:-0.05050776440363664 56:0.023775235248299744 57:0.13064168536892304 58:-0.07088343455241276 59:0.08678419286241898 60:-0.03525446224599504 61:-0.012798127037687944 62:-0.15029785511657023 63:0.1808637403524839 64:-0.015476244680870038 65:-0.09112349725686587 66:0.1102843748119015 67:0.03522531716869427 68:-0.1478868479338976 69:-0.0411729403019238 70:-0.1304570992405598 71:-0.1406415944489149 72:0.0375709066597315 73:-0.08198470077835597 74:0.09046733508316371 75:-0.008767913991155533 76:-0.1123701250897004 77:-0.014384880438088797 78:-0.064609095454216 79:-0.014452802124791421 80:0.1647144928574562 81:-0.00429215756818079 82:-0.07056114099060114 83:-0.02343258173025858 84:-0.28656794474675107 85:0.02256746538198338 86:-0.1132976460772065 87:-0.09746652841567993 88:-0.10285777054153956 89:-0.10337325042256942 90:-0.05163354885119658 91:0.13155745542966402 92:0.08968601832524516 93:-0.01939942793866906 94:-0.019821772136940405 95:0.04243007407953533 96:-0.03773652905455002 97:0.017249147049509563 98:-0.06595575780822681 99:-0.020450360499895535 100:-0.06390869015684494 101:-0.029783953715545628 102:-0.10989242931827903 103:-0.013902837553849587 104:-0.19354956998274878 105:0.06210949973991284 106:0.08329170641417687 107:-0.0440717983023765 108:0.05606273344108978 109:0.04260355298622297 110:-0.21621189381067568 111:0.06714234733954072 112:-0.030206996463955596 113:0.06130095549787466 114:-0.08243888867302583 115:-0.02914917949013985 116:0.13817866920278624 117:-0.09488689670195946 118:-0.08049185045708257 119:-0.08655599676645719 120:-0.0906701202934178 121:0.04399896842929033 122:0.030486078288119573 123:0.18433811114384577 124:-0.03365564252957343 125:-0.10452101599926558 126:-0.0401292843833709 127:-0.11871086892027122 128:-0.12733802987405887 129:0.06391584226646675 130:-0.048787655747638874 131:0.09937701918757878 132:0.07809203297186357 133:0.2042902491700191 134:0.11018106226737683 135:-0.00543552078306675 136:0.030227725752271138 137:-0.2276709916499945 138:0.02506491248137676 139:-0.016387714789463922 140:-0.015166498837061226 141:0.0787413133881413 142:0.035511866211891174 143:-0.08300649679194276 144:0.12408914080319497 145:0.04141297617640633 146:0.11550569684746173 147:0.07242603886585969 148:0.03269477195751209 149:-0.16717515455988738 150:-0.11415356684189576 151:-0.2767660331267577 152:0.05281915909682329 153:0.12179691430467826 154:0.09415720388866387 155:0.12596647885556406 156:-0.15638245584873053 157:0.11014314440007393 158:0.11770307788482079 159:0.08399140198777716 160:0.001741735336299126 161:-0.07096255269761269 162:-0.09404432458373216 163:-0.09773375609746346 164:0.02014781014328876 165:0.13969494416736639 166:-0.0402546738489316 167:-0.09196302190852854 168:0.004815460970768562 169:0.14165347212782273 170:0.08679271818926701 171:0.06203252062774622 172:-0.09874291718006134 173:-0.05917333019897342 174:-0.02685810224368022 175:-0.05468465860646505 176:0.15944491140544415 177:-0.060666384605261 178:-0.09748563428337757 179:-0.013444829588899245 180:-0.04013450501056818 181:0.004548585328918237 182:-0.01357165820753345 183:0.13827490577330956 184:-0.02111659890327316 185:0.022624082263344183 186:0.02774942118468551 187:-0.10726929518680733 188:0.0030219066314972364 189:0.040964710884369336 190:-0.12452921471916713 191:0.12240399563541779 192:-0.03287136268157225 193:-0.13121774821327284 194:0.11258523911237717 195:-0.10813802079512523 196:0.01665779736895974 197:0.10369437954460199 198:0.08558535806906338 199:0.03193609853490041'"
      ]
     },
     "execution_count": 86,
     "metadata": {},
     "output_type": "execute_result"
    }
   ],
   "source": [
    "df[\"tpc_embeddings\"].iloc[0]"
   ]
  },
  {
   "cell_type": "code",
   "execution_count": 87,
   "id": "3e833196-719a-460d-a1d5-82acfdc57ee2",
   "metadata": {
    "tags": []
   },
   "outputs": [],
   "source": [
    "corpus_path = pathlib.Path(\"/export/usuarios_ml4ds/lbartolome/NextProcurement/NP-Backend-Dockers/data/source/NP_all.parquet\")"
   ]
  },
  {
   "cell_type": "code",
   "execution_count": 89,
   "id": "c8444f9b-6fe1-4cab-a635-ccd49c5ceb79",
   "metadata": {
    "tags": []
   },
   "outputs": [
    {
     "data": {
      "text/html": [
       "<div>\n",
       "<style scoped>\n",
       "    .dataframe tbody tr th:only-of-type {\n",
       "        vertical-align: middle;\n",
       "    }\n",
       "\n",
       "    .dataframe tbody tr th {\n",
       "        vertical-align: top;\n",
       "    }\n",
       "\n",
       "    .dataframe thead th {\n",
       "        text-align: right;\n",
       "    }\n",
       "</style>\n",
       "<table border=\"1\" class=\"dataframe\">\n",
       "  <thead>\n",
       "    <tr style=\"text-align: right;\">\n",
       "      <th></th>\n",
       "      <th>id_tm</th>\n",
       "      <th>title</th>\n",
       "      <th>summary</th>\n",
       "      <th>lot_name</th>\n",
       "      <th>text</th>\n",
       "      <th>lang</th>\n",
       "      <th>normalized_text</th>\n",
       "      <th>preprocessed_text</th>\n",
       "      <th>embeddings</th>\n",
       "      <th>lemmas</th>\n",
       "    </tr>\n",
       "    <tr>\n",
       "      <th>identifier</th>\n",
       "      <th></th>\n",
       "      <th></th>\n",
       "      <th></th>\n",
       "      <th></th>\n",
       "      <th></th>\n",
       "      <th></th>\n",
       "      <th></th>\n",
       "      <th></th>\n",
       "      <th></th>\n",
       "      <th></th>\n",
       "    </tr>\n",
       "  </thead>\n",
       "  <tbody>\n",
       "    <tr>\n",
       "      <th>contratosMenoresPerfilesContratantes_2021.zip/contratosMenoresPerfilesContratantes_20211228_041633_2.atom/476</th>\n",
       "      <td>5687</td>\n",
       "      <td>Presupuesto 0500071 en concepto Productos de l...</td>\n",
       "      <td>Id licitación: 934365E; Órgano de Contratación...</td>\n",
       "      <td>nan</td>\n",
       "      <td>Presupuesto 0500071 en concepto Productos de l...</td>\n",
       "      <td>es</td>\n",
       "      <td>presupuesto en concepto productos de limpieza ...</td>\n",
       "      <td>presupuesto concepto producto limpieza colegio...</td>\n",
       "      <td>0.045029316 -0.018603815 0.0010460959 0.030204...</td>\n",
       "      <td>presupuesto concepto producto limpieza colegio...</td>\n",
       "    </tr>\n",
       "    <tr>\n",
       "      <th>licitacionesPerfilesContratanteCompleto3_2019.zip/licitacionesPerfilesContratanteCompleto3_20200613_003616_3.atom/131</th>\n",
       "      <td>34975</td>\n",
       "      <td>renovación del alumbrado publico en benavides ...</td>\n",
       "      <td>Id licitación: 134/2019; Órgano de Contratació...</td>\n",
       "      <td>nan</td>\n",
       "      <td>renovación del alumbrado publico en benavides ...</td>\n",
       "      <td>es</td>\n",
       "      <td>renovación del alumbrado publico en benavides ...</td>\n",
       "      <td>renovación alumbrado-publico orbigo antoñan fa...</td>\n",
       "      <td>0.029520702 -0.030274985 0.006953404 0.0322278...</td>\n",
       "      <td>renovación alumbrado-publico orbigo antoñan fa...</td>\n",
       "    </tr>\n",
       "    <tr>\n",
       "      <th>contratosMenoresPerfilesContratantes_2021.zip/contratosMenoresPerfilesContratantes_20211223_122110_3.atom/222</th>\n",
       "      <td>2726</td>\n",
       "      <td>Suministro de pins, medallas y placa para jubi...</td>\n",
       "      <td>Id licitación: 24158/2021; Órgano de Contratac...</td>\n",
       "      <td>nan</td>\n",
       "      <td>Suministro de pins, medallas y placa para jubi...</td>\n",
       "      <td>es</td>\n",
       "      <td>suministro de pins medallas y placa para jubil...</td>\n",
       "      <td>suministro pins medalla placa jubilado conceja...</td>\n",
       "      <td>0.04159122 0.01508044 -0.011686824 0.021341339...</td>\n",
       "      <td>suministro pins medalla placa jubilado conceja...</td>\n",
       "    </tr>\n",
       "    <tr>\n",
       "      <th>licitacionesPerfilesContratanteCompleto3_2020.zip/licitacionesPerfilesContratanteCompleto3_20200725_004241_9.atom/294</th>\n",
       "      <td>17003</td>\n",
       "      <td>El objeto de esta licitación es la contratació...</td>\n",
       "      <td>Id licitación: BC_5000011435 – ALQ.CARPA.ALMAC...</td>\n",
       "      <td>nan</td>\n",
       "      <td>El objeto de esta licitación es la contratació...</td>\n",
       "      <td>es</td>\n",
       "      <td>el objeto de esta licitación es la contratació...</td>\n",
       "      <td>objeto alquiler carpa almacén serie servicio a...</td>\n",
       "      <td>-0.016157953 -0.026091319 -0.025530037 0.01028...</td>\n",
       "      <td>objeto alquiler carpa almacén serie servicio a...</td>\n",
       "    </tr>\n",
       "    <tr>\n",
       "      <th>licitacionesPerfilesContratanteCompleto3_2020.zip/licitacionesPerfilesContratanteCompleto3_20201222_183854.atom/297/1</th>\n",
       "      <td>28968</td>\n",
       "      <td>Suministro por lotes de elementos de protecció...</td>\n",
       "      <td>Id licitación: 2054SU5FR076; Órgano de Contrat...</td>\n",
       "      <td>Mascarillas autofiltrantes</td>\n",
       "      <td>Suministro por lotes de elementos de protecció...</td>\n",
       "      <td>es</td>\n",
       "      <td>suministro por lotes de elementos de protecció...</td>\n",
       "      <td>suministro lote elemento protección laboral se...</td>\n",
       "      <td>-0.02493083 0.0027902469 0.0011027945 0.064826...</td>\n",
       "      <td>suministro lote elemento protección laboral se...</td>\n",
       "    </tr>\n",
       "    <tr>\n",
       "      <th>...</th>\n",
       "      <td>...</td>\n",
       "      <td>...</td>\n",
       "      <td>...</td>\n",
       "      <td>...</td>\n",
       "      <td>...</td>\n",
       "      <td>...</td>\n",
       "      <td>...</td>\n",
       "      <td>...</td>\n",
       "      <td>...</td>\n",
       "      <td>...</td>\n",
       "    </tr>\n",
       "    <tr>\n",
       "      <th>licitacionesPerfilesContratanteCompleto3_202301.zip/licitacionesPerfilesContratanteCompleto3_20230131_170024_2.atom/80</th>\n",
       "      <td>20879</td>\n",
       "      <td>Reasfaltado de la red viaria del Municipio.</td>\n",
       "      <td>Id licitación: GEX 4311/2022; Órgano de Contra...</td>\n",
       "      <td>nan</td>\n",
       "      <td>Reasfaltado de la red viaria del Municipio.. I...</td>\n",
       "      <td>es</td>\n",
       "      <td>reasfaltado de la red viaria del municipio id ...</td>\n",
       "      <td>reasfaltado viario municipio gex adj</td>\n",
       "      <td>0.0015430538 -0.032319903 -0.01465795 0.023056...</td>\n",
       "      <td>reasfaltado viario municipio gex adj</td>\n",
       "    </tr>\n",
       "    <tr>\n",
       "      <th>contratosMenoresPerfilesContratantes_2020.zip/contratosMenoresPerfilesContratantes_20200108_041224_1.atom/188</th>\n",
       "      <td>6301</td>\n",
       "      <td>Mantenimiento fotocopiadora banco de datos</td>\n",
       "      <td>Id licitación: L03380011-LA0001736-2019-096; Ó...</td>\n",
       "      <td>nan</td>\n",
       "      <td>Mantenimiento fotocopiadora banco de datos. Id...</td>\n",
       "      <td>es</td>\n",
       "      <td>mantenimiento fotocopiadora banco de datos id ...</td>\n",
       "      <td>mantenimiento fotocopiadoro banco dato direcci...</td>\n",
       "      <td>-0.07254014 0.023887167 -0.04284066 -0.0032594...</td>\n",
       "      <td>mantenimiento fotocopiadoro banco dato direcci...</td>\n",
       "    </tr>\n",
       "    <tr>\n",
       "      <th>PlataformasAgregadasSinMenores_2022.zip/PlataformasAgregadasSinMenores_20220212_030012.atom/363</th>\n",
       "      <td>47955</td>\n",
       "      <td>Vigésimo cuarto contrato derivado del Acuerdo ...</td>\n",
       "      <td>Id licitación: CC2017/02/25; Órgano de Contra...</td>\n",
       "      <td>None</td>\n",
       "      <td>Vigésimo cuarto contrato derivado del Acuerdo ...</td>\n",
       "      <td>es</td>\n",
       "      <td>vigésimo cuarto contrato derivado del acuerdo ...</td>\n",
       "      <td>vigésimo cuarto contrato derivado acuerdo-marc...</td>\n",
       "      <td>0.010499631 -0.07499813 -0.017887354 0.0252361...</td>\n",
       "      <td>vigésimo cuarto contrato derivado acuerdo-marc...</td>\n",
       "    </tr>\n",
       "    <tr>\n",
       "      <th>licitacionesPerfilesContratanteCompleto3_2022.zip/licitacionesPerfilesContratanteCompleto3_20221125_170022_2.atom/56</th>\n",
       "      <td>31214</td>\n",
       "      <td>Prórroga del contrato para la prestación del s...</td>\n",
       "      <td>Id licitación: Prórroga 9/2020; Órgano de Cont...</td>\n",
       "      <td>nan</td>\n",
       "      <td>Prórroga del contrato para la prestación del s...</td>\n",
       "      <td>es</td>\n",
       "      <td>prórroga del contrato para la prestación del s...</td>\n",
       "      <td>prórroga contrato prestación servicio asistenc...</td>\n",
       "      <td>-0.014058783 0.06848355 -0.0090835225 -0.00471...</td>\n",
       "      <td>prórroga contrato prestación servicio asistenc...</td>\n",
       "    </tr>\n",
       "    <tr>\n",
       "      <th>licitacionesPerfilesContratanteCompleto3_2018.zip/licitacionesPerfilesContratanteCompleto3_20200525_192509_2.atom/227</th>\n",
       "      <td>29285</td>\n",
       "      <td>Contratación del suministro y colocación de ci...</td>\n",
       "      <td>Id licitación: 25111S010; Órgano de Contrataci...</td>\n",
       "      <td>nan</td>\n",
       "      <td>Contratación del suministro y colocación de ci...</td>\n",
       "      <td>es</td>\n",
       "      <td>contratación del suministro y colocación de ci...</td>\n",
       "      <td>suministro colocación cierre protección zona-v...</td>\n",
       "      <td>-0.03830371 -0.0069295536 0.0064877355 0.02206...</td>\n",
       "      <td>suministro colocación cierre protección zona-v...</td>\n",
       "    </tr>\n",
       "  </tbody>\n",
       "</table>\n",
       "<p>8248 rows × 10 columns</p>\n",
       "</div>"
      ],
      "text/plain": [
       "                                                    id_tm  \\\n",
       "identifier                                                  \n",
       "contratosMenoresPerfilesContratantes_2021.zip/c...   5687   \n",
       "licitacionesPerfilesContratanteCompleto3_2019.z...  34975   \n",
       "contratosMenoresPerfilesContratantes_2021.zip/c...   2726   \n",
       "licitacionesPerfilesContratanteCompleto3_2020.z...  17003   \n",
       "licitacionesPerfilesContratanteCompleto3_2020.z...  28968   \n",
       "...                                                   ...   \n",
       "licitacionesPerfilesContratanteCompleto3_202301...  20879   \n",
       "contratosMenoresPerfilesContratantes_2020.zip/c...   6301   \n",
       "PlataformasAgregadasSinMenores_2022.zip/Platafo...  47955   \n",
       "licitacionesPerfilesContratanteCompleto3_2022.z...  31214   \n",
       "licitacionesPerfilesContratanteCompleto3_2018.z...  29285   \n",
       "\n",
       "                                                                                                title  \\\n",
       "identifier                                                                                              \n",
       "contratosMenoresPerfilesContratantes_2021.zip/c...  Presupuesto 0500071 en concepto Productos de l...   \n",
       "licitacionesPerfilesContratanteCompleto3_2019.z...  renovación del alumbrado publico en benavides ...   \n",
       "contratosMenoresPerfilesContratantes_2021.zip/c...  Suministro de pins, medallas y placa para jubi...   \n",
       "licitacionesPerfilesContratanteCompleto3_2020.z...  El objeto de esta licitación es la contratació...   \n",
       "licitacionesPerfilesContratanteCompleto3_2020.z...  Suministro por lotes de elementos de protecció...   \n",
       "...                                                                                               ...   \n",
       "licitacionesPerfilesContratanteCompleto3_202301...        Reasfaltado de la red viaria del Municipio.   \n",
       "contratosMenoresPerfilesContratantes_2020.zip/c...         Mantenimiento fotocopiadora banco de datos   \n",
       "PlataformasAgregadasSinMenores_2022.zip/Platafo...  Vigésimo cuarto contrato derivado del Acuerdo ...   \n",
       "licitacionesPerfilesContratanteCompleto3_2022.z...  Prórroga del contrato para la prestación del s...   \n",
       "licitacionesPerfilesContratanteCompleto3_2018.z...  Contratación del suministro y colocación de ci...   \n",
       "\n",
       "                                                                                              summary  \\\n",
       "identifier                                                                                              \n",
       "contratosMenoresPerfilesContratantes_2021.zip/c...  Id licitación: 934365E; Órgano de Contratación...   \n",
       "licitacionesPerfilesContratanteCompleto3_2019.z...  Id licitación: 134/2019; Órgano de Contratació...   \n",
       "contratosMenoresPerfilesContratantes_2021.zip/c...  Id licitación: 24158/2021; Órgano de Contratac...   \n",
       "licitacionesPerfilesContratanteCompleto3_2020.z...  Id licitación: BC_5000011435 – ALQ.CARPA.ALMAC...   \n",
       "licitacionesPerfilesContratanteCompleto3_2020.z...  Id licitación: 2054SU5FR076; Órgano de Contrat...   \n",
       "...                                                                                               ...   \n",
       "licitacionesPerfilesContratanteCompleto3_202301...  Id licitación: GEX 4311/2022; Órgano de Contra...   \n",
       "contratosMenoresPerfilesContratantes_2020.zip/c...  Id licitación: L03380011-LA0001736-2019-096; Ó...   \n",
       "PlataformasAgregadasSinMenores_2022.zip/Platafo...  Id licitación: CC2017/02/25; Órgano de Contra...   \n",
       "licitacionesPerfilesContratanteCompleto3_2022.z...  Id licitación: Prórroga 9/2020; Órgano de Cont...   \n",
       "licitacionesPerfilesContratanteCompleto3_2018.z...  Id licitación: 25111S010; Órgano de Contrataci...   \n",
       "\n",
       "                                                                      lot_name  \\\n",
       "identifier                                                                       \n",
       "contratosMenoresPerfilesContratantes_2021.zip/c...                         nan   \n",
       "licitacionesPerfilesContratanteCompleto3_2019.z...                         nan   \n",
       "contratosMenoresPerfilesContratantes_2021.zip/c...                         nan   \n",
       "licitacionesPerfilesContratanteCompleto3_2020.z...                         nan   \n",
       "licitacionesPerfilesContratanteCompleto3_2020.z...  Mascarillas autofiltrantes   \n",
       "...                                                                        ...   \n",
       "licitacionesPerfilesContratanteCompleto3_202301...                         nan   \n",
       "contratosMenoresPerfilesContratantes_2020.zip/c...                         nan   \n",
       "PlataformasAgregadasSinMenores_2022.zip/Platafo...                        None   \n",
       "licitacionesPerfilesContratanteCompleto3_2022.z...                         nan   \n",
       "licitacionesPerfilesContratanteCompleto3_2018.z...                         nan   \n",
       "\n",
       "                                                                                                 text  \\\n",
       "identifier                                                                                              \n",
       "contratosMenoresPerfilesContratantes_2021.zip/c...  Presupuesto 0500071 en concepto Productos de l...   \n",
       "licitacionesPerfilesContratanteCompleto3_2019.z...  renovación del alumbrado publico en benavides ...   \n",
       "contratosMenoresPerfilesContratantes_2021.zip/c...  Suministro de pins, medallas y placa para jubi...   \n",
       "licitacionesPerfilesContratanteCompleto3_2020.z...  El objeto de esta licitación es la contratació...   \n",
       "licitacionesPerfilesContratanteCompleto3_2020.z...  Suministro por lotes de elementos de protecció...   \n",
       "...                                                                                               ...   \n",
       "licitacionesPerfilesContratanteCompleto3_202301...  Reasfaltado de la red viaria del Municipio.. I...   \n",
       "contratosMenoresPerfilesContratantes_2020.zip/c...  Mantenimiento fotocopiadora banco de datos. Id...   \n",
       "PlataformasAgregadasSinMenores_2022.zip/Platafo...  Vigésimo cuarto contrato derivado del Acuerdo ...   \n",
       "licitacionesPerfilesContratanteCompleto3_2022.z...  Prórroga del contrato para la prestación del s...   \n",
       "licitacionesPerfilesContratanteCompleto3_2018.z...  Contratación del suministro y colocación de ci...   \n",
       "\n",
       "                                                   lang  \\\n",
       "identifier                                                \n",
       "contratosMenoresPerfilesContratantes_2021.zip/c...   es   \n",
       "licitacionesPerfilesContratanteCompleto3_2019.z...   es   \n",
       "contratosMenoresPerfilesContratantes_2021.zip/c...   es   \n",
       "licitacionesPerfilesContratanteCompleto3_2020.z...   es   \n",
       "licitacionesPerfilesContratanteCompleto3_2020.z...   es   \n",
       "...                                                 ...   \n",
       "licitacionesPerfilesContratanteCompleto3_202301...   es   \n",
       "contratosMenoresPerfilesContratantes_2020.zip/c...   es   \n",
       "PlataformasAgregadasSinMenores_2022.zip/Platafo...   es   \n",
       "licitacionesPerfilesContratanteCompleto3_2022.z...   es   \n",
       "licitacionesPerfilesContratanteCompleto3_2018.z...   es   \n",
       "\n",
       "                                                                                      normalized_text  \\\n",
       "identifier                                                                                              \n",
       "contratosMenoresPerfilesContratantes_2021.zip/c...  presupuesto en concepto productos de limpieza ...   \n",
       "licitacionesPerfilesContratanteCompleto3_2019.z...  renovación del alumbrado publico en benavides ...   \n",
       "contratosMenoresPerfilesContratantes_2021.zip/c...  suministro de pins medallas y placa para jubil...   \n",
       "licitacionesPerfilesContratanteCompleto3_2020.z...  el objeto de esta licitación es la contratació...   \n",
       "licitacionesPerfilesContratanteCompleto3_2020.z...  suministro por lotes de elementos de protecció...   \n",
       "...                                                                                               ...   \n",
       "licitacionesPerfilesContratanteCompleto3_202301...  reasfaltado de la red viaria del municipio id ...   \n",
       "contratosMenoresPerfilesContratantes_2020.zip/c...  mantenimiento fotocopiadora banco de datos id ...   \n",
       "PlataformasAgregadasSinMenores_2022.zip/Platafo...  vigésimo cuarto contrato derivado del acuerdo ...   \n",
       "licitacionesPerfilesContratanteCompleto3_2022.z...  prórroga del contrato para la prestación del s...   \n",
       "licitacionesPerfilesContratanteCompleto3_2018.z...  contratación del suministro y colocación de ci...   \n",
       "\n",
       "                                                                                    preprocessed_text  \\\n",
       "identifier                                                                                              \n",
       "contratosMenoresPerfilesContratantes_2021.zip/c...  presupuesto concepto producto limpieza colegio...   \n",
       "licitacionesPerfilesContratanteCompleto3_2019.z...  renovación alumbrado-publico orbigo antoñan fa...   \n",
       "contratosMenoresPerfilesContratantes_2021.zip/c...  suministro pins medalla placa jubilado conceja...   \n",
       "licitacionesPerfilesContratanteCompleto3_2020.z...  objeto alquiler carpa almacén serie servicio a...   \n",
       "licitacionesPerfilesContratanteCompleto3_2020.z...  suministro lote elemento protección laboral se...   \n",
       "...                                                                                               ...   \n",
       "licitacionesPerfilesContratanteCompleto3_202301...               reasfaltado viario municipio gex adj   \n",
       "contratosMenoresPerfilesContratantes_2020.zip/c...  mantenimiento fotocopiadoro banco dato direcci...   \n",
       "PlataformasAgregadasSinMenores_2022.zip/Platafo...  vigésimo cuarto contrato derivado acuerdo-marc...   \n",
       "licitacionesPerfilesContratanteCompleto3_2022.z...  prórroga contrato prestación servicio asistenc...   \n",
       "licitacionesPerfilesContratanteCompleto3_2018.z...  suministro colocación cierre protección zona-v...   \n",
       "\n",
       "                                                                                           embeddings  \\\n",
       "identifier                                                                                              \n",
       "contratosMenoresPerfilesContratantes_2021.zip/c...  0.045029316 -0.018603815 0.0010460959 0.030204...   \n",
       "licitacionesPerfilesContratanteCompleto3_2019.z...  0.029520702 -0.030274985 0.006953404 0.0322278...   \n",
       "contratosMenoresPerfilesContratantes_2021.zip/c...  0.04159122 0.01508044 -0.011686824 0.021341339...   \n",
       "licitacionesPerfilesContratanteCompleto3_2020.z...  -0.016157953 -0.026091319 -0.025530037 0.01028...   \n",
       "licitacionesPerfilesContratanteCompleto3_2020.z...  -0.02493083 0.0027902469 0.0011027945 0.064826...   \n",
       "...                                                                                               ...   \n",
       "licitacionesPerfilesContratanteCompleto3_202301...  0.0015430538 -0.032319903 -0.01465795 0.023056...   \n",
       "contratosMenoresPerfilesContratantes_2020.zip/c...  -0.07254014 0.023887167 -0.04284066 -0.0032594...   \n",
       "PlataformasAgregadasSinMenores_2022.zip/Platafo...  0.010499631 -0.07499813 -0.017887354 0.0252361...   \n",
       "licitacionesPerfilesContratanteCompleto3_2022.z...  -0.014058783 0.06848355 -0.0090835225 -0.00471...   \n",
       "licitacionesPerfilesContratanteCompleto3_2018.z...  -0.03830371 -0.0069295536 0.0064877355 0.02206...   \n",
       "\n",
       "                                                                                               lemmas  \n",
       "identifier                                                                                             \n",
       "contratosMenoresPerfilesContratantes_2021.zip/c...  presupuesto concepto producto limpieza colegio...  \n",
       "licitacionesPerfilesContratanteCompleto3_2019.z...  renovación alumbrado-publico orbigo antoñan fa...  \n",
       "contratosMenoresPerfilesContratantes_2021.zip/c...  suministro pins medalla placa jubilado conceja...  \n",
       "licitacionesPerfilesContratanteCompleto3_2020.z...  objeto alquiler carpa almacén serie servicio a...  \n",
       "licitacionesPerfilesContratanteCompleto3_2020.z...  suministro lote elemento protección laboral se...  \n",
       "...                                                                                               ...  \n",
       "licitacionesPerfilesContratanteCompleto3_202301...               reasfaltado viario municipio gex adj  \n",
       "contratosMenoresPerfilesContratantes_2020.zip/c...  mantenimiento fotocopiadoro banco dato direcci...  \n",
       "PlataformasAgregadasSinMenores_2022.zip/Platafo...  vigésimo cuarto contrato derivado acuerdo-marc...  \n",
       "licitacionesPerfilesContratanteCompleto3_2022.z...  prórroga contrato prestación servicio asistenc...  \n",
       "licitacionesPerfilesContratanteCompleto3_2018.z...  suministro colocación cierre protección zona-v...  \n",
       "\n",
       "[8248 rows x 10 columns]"
      ]
     },
     "execution_count": 89,
     "metadata": {},
     "output_type": "execute_result"
    }
   ],
   "source": [
    "df = pd.read_parquet(corpus_path)\n",
    "df"
   ]
  },
  {
   "cell_type": "code",
   "execution_count": 95,
   "id": "4aaaa62d-9251-4ee0-8bfc-c97095cb3750",
   "metadata": {
    "tags": []
   },
   "outputs": [],
   "source": [
    "def get_str_embeddings(vector):\n",
    "\n",
    "    repr = \" \".join(\n",
    "        [f\"{idx}:{val}\" for idx, val in enumerate(vector.split())]).rstrip()\n",
    "\n",
    "    return repr"
   ]
  },
  {
   "cell_type": "code",
   "execution_count": 96,
   "id": "1b03f888-078e-4b4e-9382-d7ae6ca0b5a7",
   "metadata": {
    "tags": []
   },
   "outputs": [],
   "source": [
    "df[\"emb_str\"] = df[\"embeddings\"].apply(get_str_embeddings)"
   ]
  },
  {
   "cell_type": "code",
   "execution_count": 97,
   "id": "3f66b1fb-72f1-487b-be3c-dcf59fbfd568",
   "metadata": {
    "tags": []
   },
   "outputs": [
    {
     "data": {
      "text/plain": [
       "'0:0.045029316 1:-0.018603815 2:0.0010460959 3:0.030204851 4:-0.0016008768 5:-0.015301826 6:0.034685947 7:0.02530693 8:0.028614575 9:0.039681755 10:-0.016643016 11:0.0077653397 12:-0.010790816 13:0.10071005 14:0.0007173521 15:0.020897059 16:0.02626047 17:0.056259666 18:-0.017947637 19:-0.031884085 20:-0.04323454 21:0.01869942 22:-0.008377271 23:0.026859788 24:0.027356872 25:0.027944392 26:0.013139566 27:-0.024763795 28:-0.03129352 29:-0.11984995 30:0.058467023 31:0.015247197 32:-0.02556261 33:0.026013466 34:2.0401324e-06 35:-0.07312084 36:-0.033723786 37:0.0013048672 38:-0.033796422 39:0.020649698 40:-0.020370213 41:-0.005945503 42:-0.012227283 43:-0.033956982 44:-0.035644643 45:0.0022975735 46:0.005419243 47:0.05769533 48:-0.02230487 49:0.013274465 50:-0.012941473 51:-0.06720839 52:0.016940972 53:-0.0112215895 54:0.047064915 55:-0.048532095 56:-0.01830962 57:0.049360357 58:0.033868756 59:0.014712758 60:0.00957385 61:0.012250331 62:0.03996496 63:-0.018097809 64:-0.038198445 65:-0.01877519 66:-0.041299388 67:-0.07848322 68:0.022809967 69:0.029263092 70:0.017090023 71:-0.01890518 72:0.008278 73:0.0743667 74:0.01871541 75:-0.057318237 76:-0.027246803 77:0.016092652 78:0.023924882 79:-0.036353506 80:0.045773726 81:0.042218495 82:-0.011087634 83:-0.01148898 84:0.021546468 85:0.06621955 86:-0.0031565703 87:-0.0057534 88:0.026122514 89:-0.052414503 90:-0.01901938 91:-0.015685415 92:0.04065203 93:0.070868574 94:-0.012679958 95:-0.05626254 96:0.021144636 97:0.0015754028 98:0.06716576 99:-0.021760607 100:-0.06541333 101:0.027853422 102:0.0074659996 103:0.0126354275 104:-0.04520075 105:0.007387886 106:-0.023813017 107:-0.029082326 108:-0.04895356 109:0.034037326 110:0.006393508 111:-0.025908737 112:-0.0729353 113:0.0065540476 114:-0.015789328 115:-0.020158665 116:0.00049276435 117:-0.022884492 118:-0.04359051 119:-0.018578526 120:0.06817194 121:0.050025776 122:-0.006529292 123:0.0024914576 124:-0.047982305 125:0.08251247 126:-0.06401457 127:0.018060055 128:0.026672265 129:-0.061937205 130:0.010166356 131:0.016385144 132:-0.0025723393 133:-0.0105215395 134:0.017580742 135:-0.004848978 136:-0.034566574 137:0.013595457 138:0.04585501 139:-0.073590845 140:-0.031327903 141:0.014912555 142:-0.041840658 143:0.0061584427 144:-0.019858016 145:-0.02333688 146:0.03284806 147:-0.008991972 148:0.0031810957 149:-0.033473898 150:0.01596656 151:0.00024344855 152:-0.007216616 153:0.004215678 154:-0.03152798 155:0.012686225 156:-0.010596144 157:-0.03763272 158:-0.03770594 159:0.036356032 160:-0.033780858 161:0.0015710923 162:-0.042307083 163:-0.040812247 164:-0.048531793 165:0.016149938 166:0.0032097404 167:0.01254335 168:0.017273221 169:0.026522491 170:-0.0052485554 171:-0.025968954 172:-0.0024496468 173:0.013732901 174:0.07361063 175:0.031168811 176:0.0004401362 177:-0.025734508 178:-0.019822424 179:-0.06486691 180:0.039966986 181:-0.0983724 182:0.07808462 183:-0.06081605 184:-0.007000614 185:0.0016729358 186:-0.052366614 187:0.048839517 188:-0.035028167 189:0.00028341234 190:0.0154011585 191:0.024433328 192:0.0022617504 193:0.009698188 194:-0.0025942626 195:0.037859127 196:0.03321088 197:-0.05121307 198:0.02182888 199:0.0005350371 200:-0.01369636 201:-0.011200059 202:0.100832954 203:-0.005065252 204:0.00089915347 205:0.0067895805 206:-0.0028089003 207:0.02433885 208:-0.04478205 209:0.02884628 210:-0.022915816 211:-0.042813845 212:-0.034320414 213:0.022262992 214:0.008807981 215:0.003169076 216:0.034300033 217:0.06556347 218:-0.00079247577 219:0.07890378 220:0.0037960592 221:0.09733926 222:0.066901974 223:-0.00015147863 224:0.0036306633 225:0.0008927547 226:0.007306695 227:0.011126265 228:0.0063260742 229:-0.0074686087 230:0.010874896 231:0.01580595 232:0.030715495 233:0.00040288744 234:0.0036725446 235:0.07660812 236:0.054067507 237:-0.03519862 238:0.030066688 239:-0.023529997 240:-0.027780678 241:-0.08509705 242:0.05551908 243:-0.0089616645 244:0.0020621924 245:0.011285484 246:0.016984034 247:-0.03518422 248:0.03041371 249:-0.026177505 250:0.025919626 251:0.025842829 252:-0.04154847 253:0.025267333 254:-0.026265394 255:-0.038456395 256:-0.11232019 257:-0.0020596648 258:-0.0687375 259:0.0010012594 260:0.04416688 261:-0.03588904 262:0.0024999033 263:-0.034897733 264:0.06825904 265:-0.04090748 266:0.04623411 267:-0.0334149 268:0.0105609195 269:0.00233488 270:-0.021812297 271:0.033921108 272:0.02764087 273:0.063567445 274:0.017348934 275:-0.037438545 276:0.011288187 277:-0.001291394 278:-0.035377916 279:0.0017329251 280:0.047871813 281:0.00607183 282:-0.026348172 283:0.0141862715 284:0.028005878 285:0.0066181617 286:-0.0014327072 287:0.0023796507 288:-0.0433886 289:-0.038830757 290:0.0068149087 291:0.03859465 292:-0.0147454925 293:-0.0012079657 294:4.2647964e-05 295:0.026549425 296:0.0077733304 297:-0.005571403 298:-0.021525763 299:-0.015437147 300:0.030680653 301:0.0039568525 302:-0.01378861 303:-0.0038320085 304:-0.018001005 305:0.029795717 306:-0.035538483 307:-0.033493903 308:0.023313763 309:0.042397063 310:0.036675807 311:-0.004618178 312:0.017806377 313:-0.049221303 314:0.034313336 315:-0.05240677 316:0.02961547 317:0.030843064 318:0.010454112 319:0.05565745 320:-0.005671481 321:-0.0035004115 322:-0.04332293 323:0.0031740076 324:-0.01739061 325:-0.04387065 326:-0.046196695 327:0.0023361144 328:-0.025605172 329:0.0049225916 330:0.006400846 331:-0.028350875 332:0.029825717 333:0.0022812285 334:0.10033591 335:-0.038359646 336:-0.028150868 337:0.00014554772 338:-0.009317617 339:-0.014793601 340:-0.006942363 341:-0.057319473 342:-0.028738143 343:0.014108854 344:-0.008351053 345:-0.012022473 346:0.100349106 347:0.025761303 348:-0.030384406 349:0.0063471124 350:-0.01233558 351:0.07063045 352:-0.012687519 353:0.012168313 354:-0.040701948 355:-0.02275526 356:-0.055677686 357:0.016494086 358:-0.012889413 359:0.031774946 360:0.05996989 361:-0.01936556 362:-0.08349897 363:-0.027817123 364:0.020852733 365:0.09629648 366:-0.01431374 367:0.0513875 368:0.0052614342 369:-0.060752176 370:-0.010289515 371:0.096960835 372:-0.05244334 373:0.03274007 374:0.0013924328 375:-0.036423333 376:-0.0064305845 377:0.003946203 378:0.0034039638 379:0.009920317 380:-0.001099641 381:0.051371567 382:0.018844219 383:-0.010754031 384:-0.014069588 385:-0.028975595 386:0.01607659 387:-0.07009375 388:-0.053925093 389:-0.0021225715 390:0.018079657 391:0.029130809 392:-0.039187748 393:0.0026163333 394:-0.058153786 395:0.012674986 396:0.034956407 397:0.064008415 398:-0.006366314 399:0.04296248 400:-0.013704655 401:-0.010387028 402:0.012114465 403:0.018189106 404:0.0384914 405:-0.021611119 406:-0.006002486 407:0.016442107 408:0.02398842 409:0.02827537 410:0.024700256 411:-0.014300165 412:-0.012166742 413:0.0023426083 414:0.05015063 415:0.023755506 416:-0.021034645 417:-0.02153649 418:-0.022341961 419:-0.024337988 420:0.013015544 421:0.018452944 422:0.0035778256 423:0.05278907 424:0.03834605 425:-0.010350327 426:-0.004988195 427:-0.059227765 428:0.009911177 429:0.0662269 430:-0.00082361477 431:0.0036185086 432:-0.0033785084 433:-0.07677312 434:-0.011525743 435:-0.009890151 436:0.07103099 437:-0.06454872 438:-0.065629646 439:-0.06835564 440:0.032634486 441:0.01678884 442:0.056129705 443:0.002791315 444:-0.008211283 445:-0.03131847 446:-0.019639164 447:0.02236925 448:-0.022002406 449:0.03105636 450:-0.010284655 451:-0.044336546 452:0.021907745 453:0.02754315 454:0.016210746 455:-0.02188063 456:0.00013152978 457:-0.021676198 458:0.008183471 459:-0.04275693 460:-0.007528112 461:0.049822282 462:-0.06149496 463:-0.06850661 464:0.007414081 465:-0.039346647 466:0.069313 467:-0.042116396 468:-0.019182913 469:-0.03287241 470:0.016882133 471:0.03845137 472:0.0074858577 473:0.055892337 474:0.027028 475:-0.028076086 476:0.055937663 477:-0.029455276 478:0.0477113 479:0.012442751 480:0.012659789 481:0.022628298 482:-0.0243251 483:-0.019063467 484:0.022486864 485:0.0334995 486:0.034015954 487:-0.04586444 488:0.020044114 489:0.021451583 490:0.027574068 491:-0.015530589 492:0.01957885 493:-0.014268583 494:-0.019124048 495:0.032282237 496:0.016775537 497:-0.031737257 498:0.07143034 499:-0.018486125 500:0.01931414 501:0.02398033 502:0.04046842 503:-0.0015378757 504:-0.01683078 505:-0.0047192164 506:-0.00015246669 507:-0.033633783 508:-0.037149135 509:-0.04452785 510:0.00020101175 511:0.063770324 512:0.032904968 513:0.03410944 514:0.006162081 515:0.034804236 516:-0.037994564 517:-0.10818475 518:0.045381065 519:0.058922466 520:-0.021031352 521:0.0012331641 522:0.02544067 523:-0.046418846 524:-0.0114640035 525:0.021200811 526:-0.007009008 527:-0.0053470996 528:0.0049974844 529:0.0792055 530:-0.031758446 531:-0.07359637 532:0.012731821 533:0.035848968 534:-0.022753417 535:0.042321548 536:0.025843253 537:-0.07716039 538:-0.05148904 539:-0.042649325 540:0.017989866 541:-0.0464975 542:-0.012722569 543:3.1331247e-06 544:0.056102045 545:0.04631449 546:-0.05893678 547:-0.010973097 548:-0.0114879515 549:-0.038857237 550:0.014550296 551:0.061484683 552:-0.061057173 553:-0.0028132857 554:-0.014991448 555:-6.089603e-33 556:0.010065843 557:-0.06693782 558:-0.025063293 559:0.03354143 560:0.02974434 561:0.050891742 562:-0.021633342 563:0.004048175 564:0.0011921141 565:0.0027535532 566:0.009650138 567:-0.04662678 568:0.014231515 569:-0.023096764 570:0.041236438 571:-0.032344513 572:-0.024744345 573:0.002836379 574:0.03148816 575:-0.03870924 576:-0.029057248 577:0.0344078 578:0.043574158 579:0.0474438 580:0.068880476 581:-0.028711073 582:-0.0150377 583:-0.01668466 584:-0.0039937925 585:0.015086271 586:0.00038148672 587:-0.028003309 588:0.0064308983 589:0.04772861 590:-0.015708711 591:-0.0024410516 592:0.042446617 593:-0.01680508 594:-0.024178216 595:0.032826576 596:0.0012072602 597:-0.036273982 598:0.001695998 599:-0.031502463 600:0.00985559 601:0.03073999 602:-0.016998358 603:-0.043121707 604:-0.020152373 605:-0.07870381 606:-0.006465114 607:-0.017685626 608:0.014945108 609:-0.012337398 610:0.05299235 611:0.101518504 612:-0.010569645 613:0.005186411 614:0.12793352 615:-0.011400027 616:-0.014610337 617:0.012253872 618:-0.029027449 619:-0.008656322 620:0.0009798328 621:-0.014202951 622:-0.03832971 623:-0.07038953 624:0.046349213 625:0.014174575 626:-0.017378893 627:0.012355947 628:0.007837007 629:-0.046485405 630:0.021329045 631:0.012530274 632:-0.05552329 633:0.018283185 634:0.043800686 635:0.014788457 636:-0.06481811 637:-0.011969323 638:0.048836745 639:0.01147626 640:-0.03461256 641:-0.008551242 642:-0.014839264 643:0.022582985 644:-0.0009712008 645:-0.031329654 646:0.02769397 647:0.012229718 648:-0.04616221 649:0.030518418 650:0.010106273 651:-0.08701083 652:-0.04218496 653:0.047982965 654:0.007271728 655:0.0025216946 656:0.031880494 657:0.034390286 658:-0.058660038 659:0.046059314 660:0.014226315 661:-0.010563279 662:0.037876803 663:-0.025575932 664:-0.03778098 665:0.016359016 666:-0.013011201 667:-0.020659558 668:0.0618902 669:0.014536856 670:-0.022045732 671:-0.024483578 672:0.00053031615 673:-0.011519292 674:0.04253818 675:-0.003025773 676:-0.013403081 677:-0.0300216 678:0.019318575 679:0.0038539344 680:-0.073147066 681:0.012827446 682:0.01861195 683:0.05682443 684:-0.039750617 685:0.0026460628 686:0.018915296 687:-0.019644069 688:2.6897123e-07 689:0.004657266 690:-0.0063671703 691:-0.062306743 692:0.030824546 693:0.025945684 694:-0.037503228 695:-0.026919508 696:0.012558999 697:-0.060562074 698:-0.06600864 699:0.01282603 700:-0.011740113 701:0.025285926 702:0.05173343 703:-0.0060544712 704:-0.018614544 705:0.026363691 706:-0.07646268 707:-0.036160782 708:-0.009358578 709:0.014251347 710:0.019117616 711:0.031810585 712:-0.0033033763 713:0.0022955139 714:-0.056495402 715:0.020352146 716:-0.10142961 717:0.026156092 718:-0.060578845 719:0.049933728 720:0.07313215 721:-0.009238267 722:-0.043890093 723:0.023608278 724:-0.01165501 725:-0.00011557101 726:-0.02465724 727:0.0044155056 728:0.012718613 729:0.015416249 730:-0.07313242 731:-0.004810814 732:-0.060398713 733:-0.0023524074 734:0.055860143 735:-0.00883778 736:0.022097122 737:0.025026781 738:-0.038372017 739:0.02427943 740:-0.014663327 741:0.035180993 742:0.014413006 743:-0.022413174 744:-0.035689514 745:0.0369504 746:-0.0101093985 747:0.056790035 748:-0.004910083 749:-0.06702021 750:-0.02615481 751:9.593846e-05 752:0.0876131 753:0.023567418 754:-0.048466697 755:0.052123483 756:2.9827177e-34 757:0.004157002 758:-0.047870256 759:0.07463492 760:-0.0065821507 761:0.0044497442 762:0.03805502 763:0.022511331 764:-0.031761125 765:0.015321762 766:-0.07298419 767:-0.025240311'"
      ]
     },
     "execution_count": 97,
     "metadata": {},
     "output_type": "execute_result"
    }
   ],
   "source": [
    "df.emb_str[0]"
   ]
  },
  {
   "cell_type": "code",
   "execution_count": 2,
   "id": "7a577939-8ece-4602-9b9f-3d6ce2554c32",
   "metadata": {
    "tags": []
   },
   "outputs": [
    {
     "name": "stdout",
     "output_type": "stream",
     "text": [
      "/export/usuarios_ml4ds/lbartolome/NextProcurement/NP-Backend-Dockers/np-tools\n"
     ]
    }
   ],
   "source": [
    "cd np-tools"
   ]
  },
  {
   "cell_type": "code",
   "execution_count": 3,
   "id": "87703144-a0b6-4e50-8968-8d5f503387f8",
   "metadata": {
    "tags": []
   },
   "outputs": [],
   "source": [
    "from src.core.embedder import Embedder"
   ]
  },
  {
   "cell_type": "code",
   "execution_count": 5,
   "id": "1d4015ab-6e76-4afc-9119-bbf41243b909",
   "metadata": {
    "tags": []
   },
   "outputs": [],
   "source": [
    "embedder_manager = Embedder()"
   ]
  },
  {
   "cell_type": "code",
   "execution_count": 7,
   "id": "5dc0c138-f78e-414a-b0ae-13f659c21e67",
   "metadata": {
    "tags": []
   },
   "outputs": [],
   "source": [
    "model_path = pathlib.Path(\"/export/usuarios_ml4ds/lbartolome/NextProcurement/NP-Backend-Dockers/data/source/Mallet_5_topics/train_data/model_w2v_corpus.model\")\n",
    "text_to_embed = [\"quiero tecnología\"]"
   ]
  },
  {
   "cell_type": "code",
   "execution_count": 6,
   "id": "5e28a844-1a4b-4033-9664-c9101766d3ee",
   "metadata": {
    "tags": []
   },
   "outputs": [
    {
     "data": {
      "text/plain": [
       "'quiero tecnología'"
      ]
     },
     "execution_count": 6,
     "metadata": {},
     "output_type": "execute_result"
    }
   ],
   "source": [
    "sent=text_to_embed[0]\n",
    "sent"
   ]
  },
  {
   "cell_type": "code",
   "execution_count": 7,
   "id": "b490c7eb-3513-4875-8dda-3b258c28e1ea",
   "metadata": {
    "tags": []
   },
   "outputs": [
    {
     "data": {
      "application/vnd.jupyter.widget-view+json": {
       "model_id": "2d0a588d5b3c42ab8a56df92b9ddcf48",
       "version_major": 2,
       "version_minor": 0
      },
      "text/plain": [
       "Batches:   0%|          | 0/1 [00:00<?, ?it/s]"
      ]
     },
     "metadata": {},
     "output_type": "display_data"
    },
    {
     "data": {
      "text/plain": [
       "array([ 3.15628340e-03,  1.07290950e-02,  6.81305304e-03,  8.72608460e-03,\n",
       "        1.07349698e-02,  1.74779724e-02, -4.44529466e-02,  3.69455442e-02,\n",
       "        3.39084826e-02,  9.76519939e-03, -5.78839984e-03,  3.80469225e-02,\n",
       "       -4.80645383e-03,  3.16906311e-02, -4.98133264e-02, -2.85190456e-02,\n",
       "       -4.80161943e-02, -2.63556167e-02, -3.45544666e-02, -2.45054904e-02,\n",
       "       -5.65467998e-02,  2.12722812e-02,  6.61117164e-03, -2.25569978e-02,\n",
       "        3.20528150e-02, -1.04096709e-02,  7.76938796e-02, -1.63797457e-02,\n",
       "        7.42897997e-03, -1.78907029e-02,  6.80597499e-02,  2.67015351e-03,\n",
       "       -5.42299151e-02,  3.09892949e-02,  1.99809801e-06, -2.30034906e-03,\n",
       "       -1.21261859e-02,  6.03255816e-03,  2.27188319e-03, -2.26619542e-02,\n",
       "        7.23252399e-03, -3.84132639e-02,  1.12818470e-02,  1.35766994e-02,\n",
       "       -9.67989191e-02, -3.09972372e-02,  5.99665754e-02, -3.49268354e-02,\n",
       "       -6.01932593e-02,  1.29907392e-02,  1.67483184e-02, -7.42203072e-02,\n",
       "       -1.75850708e-02, -3.05725615e-02,  2.36116964e-02,  3.20812594e-03,\n",
       "       -1.03759384e-02, -1.67916659e-02,  8.15211087e-02,  2.93787476e-02,\n",
       "        4.90061156e-02, -8.95364117e-03,  2.76293531e-02, -6.14909194e-02,\n",
       "       -7.05450103e-02, -6.12592977e-03,  2.82672457e-02, -1.45305973e-02,\n",
       "        1.73952449e-02,  1.93886403e-02,  4.70864885e-02, -9.21103545e-03,\n",
       "        3.10671348e-02,  1.34992704e-01, -1.59274824e-02, -1.27973817e-02,\n",
       "       -5.08261174e-02, -2.47106608e-02,  1.56072667e-02, -5.71284220e-02,\n",
       "        5.13161384e-02,  2.00945865e-02,  1.21410619e-02,  4.27135453e-02,\n",
       "        1.25630293e-02,  3.96783464e-02, -2.92807687e-02, -2.14226041e-02,\n",
       "        8.20998661e-03,  2.27842797e-02,  7.01296926e-02, -3.41833085e-02,\n",
       "       -4.50915052e-03,  5.29380515e-02, -2.51213147e-04, -3.49479355e-02,\n",
       "        1.21095926e-02,  7.85071682e-03,  9.11473949e-03, -5.69389164e-02,\n",
       "       -7.22259581e-02, -5.99980727e-03,  9.17007923e-02,  6.98117465e-02,\n",
       "       -4.08360437e-02, -1.95872299e-02, -2.43779626e-02,  1.40657928e-02,\n",
       "       -5.54386601e-02, -3.84877473e-02, -4.16289456e-02, -4.03159391e-03,\n",
       "       -3.94218713e-02, -2.63801441e-02,  5.48659302e-02,  3.59543487e-02,\n",
       "        4.10401262e-03, -2.57666269e-03,  4.38201381e-03,  1.60679631e-02,\n",
       "        1.08798165e-02,  4.27340604e-02,  1.12687377e-02, -2.29368173e-02,\n",
       "        4.32285406e-02,  7.46662617e-02, -4.07889821e-02,  4.21118848e-02,\n",
       "       -2.29090685e-03, -7.64450356e-02, -7.15884729e-04,  3.50809321e-02,\n",
       "       -1.96974482e-02,  7.38049275e-04,  3.37518496e-03,  2.94831097e-02,\n",
       "       -1.45007381e-02, -1.62008312e-02,  3.95289361e-02, -6.42535463e-02,\n",
       "        4.44753421e-03, -9.39372927e-02, -2.64901165e-02, -1.27901603e-02,\n",
       "        9.09631234e-03, -2.57769097e-02,  4.35082167e-02, -1.50000071e-02,\n",
       "       -4.11173189e-03, -3.03198844e-02,  3.01727075e-02, -1.93729252e-02,\n",
       "       -7.18309209e-02, -5.83304688e-02,  4.85968068e-02,  7.37513229e-02,\n",
       "       -2.41744500e-02,  1.32812588e-02,  3.29372659e-02,  1.58880688e-02,\n",
       "       -4.38278634e-03,  5.61635708e-03, -2.71185823e-02, -1.80634130e-02,\n",
       "       -2.28256397e-02, -1.00757498e-02, -3.26394551e-02,  3.66603732e-02,\n",
       "        3.23801078e-02,  4.29344736e-02, -1.64484810e-02, -5.40017150e-02,\n",
       "        4.05074889e-03,  1.28769070e-01,  3.26529853e-02, -6.45234901e-03,\n",
       "       -1.23211863e-02, -3.79136503e-02,  1.97744630e-02, -7.81521872e-02,\n",
       "        4.69070002e-02, -7.82925338e-02,  5.93984406e-03,  3.42151918e-03,\n",
       "       -6.23286888e-02,  2.11524665e-02, -6.34941505e-04, -1.82517264e-02,\n",
       "       -6.10613413e-02, -2.48701759e-02,  1.62829347e-02,  3.11170612e-02,\n",
       "       -5.31210341e-02,  1.21111365e-03,  1.79107841e-02,  2.38620527e-02,\n",
       "        4.56349999e-02, -3.44543308e-02, -1.13495942e-02,  4.40832302e-02,\n",
       "       -4.50922325e-02,  1.25747621e-02,  4.06684764e-02,  9.58669186e-03,\n",
       "       -2.77324058e-02,  3.59747745e-02,  2.40849517e-03, -4.83991392e-03,\n",
       "       -4.75240350e-02, -7.96750560e-03, -4.19500656e-02, -9.41058062e-03,\n",
       "       -7.43881054e-03, -2.10686680e-02, -6.21629693e-03,  1.78857725e-02,\n",
       "       -3.15112271e-03,  4.41984320e-03, -5.61907478e-02,  1.19287051e-01,\n",
       "        9.17072524e-04,  6.09396510e-02, -2.24600430e-03, -3.72349806e-02,\n",
       "       -2.06736941e-02, -8.91366899e-02,  1.89026371e-02,  1.19559001e-02,\n",
       "       -1.92682836e-02, -1.03489710e-02, -1.53181050e-02, -4.10613455e-02,\n",
       "        3.36941741e-02, -5.98325161e-03,  3.94748673e-02,  5.92381395e-02,\n",
       "        4.90209600e-03, -5.02568521e-02,  7.24069588e-03, -5.01153618e-02,\n",
       "        1.84131023e-02, -1.12992898e-02, -4.62873559e-03, -1.68405678e-02,\n",
       "        8.56446847e-02, -2.24099867e-02,  4.70631756e-02,  3.12729669e-03,\n",
       "       -1.08781140e-02, -7.47106299e-02,  5.29319607e-02,  3.87465097e-02,\n",
       "       -6.30531460e-02,  2.54835244e-02, -4.94724512e-03,  3.91812213e-02,\n",
       "       -7.51036033e-02, -5.77310622e-02, -3.36964577e-02, -3.35855037e-02,\n",
       "        5.64495213e-02,  4.10443963e-03,  2.97583770e-02, -2.60762349e-02,\n",
       "        1.59579143e-02,  2.27350742e-02,  3.68923917e-02, -1.95770878e-02,\n",
       "        2.30455399e-02,  9.85459425e-03, -1.57812834e-02,  4.95162494e-02,\n",
       "       -1.82194766e-02,  2.69688442e-02, -2.02947296e-02, -1.73064377e-02,\n",
       "        1.82574820e-02, -6.67033112e-03, -1.14502134e-02, -2.81452704e-02,\n",
       "        8.12491775e-02,  3.58918915e-03,  1.49551174e-02,  7.14608235e-03,\n",
       "       -1.50118070e-02,  5.79677261e-02,  5.62554784e-02, -1.16454950e-02,\n",
       "       -2.85365339e-02,  8.18960089e-03, -2.48735528e-02, -4.59779091e-02,\n",
       "        3.86605114e-02, -2.28569712e-02, -2.61425264e-02,  3.50202471e-02,\n",
       "       -6.99081719e-02,  3.30584012e-02,  1.29663432e-02, -3.54645699e-02,\n",
       "        6.14626426e-03,  5.09349145e-02,  1.62185356e-02, -4.94760834e-02,\n",
       "        1.04414690e-02,  3.03049032e-02,  1.15681561e-02, -9.01225582e-02,\n",
       "        3.04343142e-02,  6.93088844e-02,  4.61022295e-02,  1.62683930e-02,\n",
       "       -1.14392815e-02,  4.86827716e-02, -4.58273180e-02, -3.22405472e-02,\n",
       "        3.33140567e-02, -8.75124801e-03, -1.27530415e-02,  3.15618999e-02,\n",
       "        1.35695841e-02,  1.44228898e-02, -2.07158327e-02,  2.41499729e-02,\n",
       "       -3.79909785e-03, -6.88845739e-02, -7.51534179e-02, -7.56468531e-03,\n",
       "       -3.27797197e-02, -6.26394385e-03,  1.19060772e-02,  6.23074248e-02,\n",
       "        2.81891637e-02,  1.57145020e-02, -4.12128791e-02, -5.27392551e-02,\n",
       "        5.05777251e-04, -3.80971283e-02,  1.16471378e-02, -8.86009913e-03,\n",
       "        1.84811614e-02, -1.72364786e-02,  3.26135866e-02,  9.24539343e-02,\n",
       "       -2.45680157e-02,  6.64176568e-02, -6.74136169e-03,  8.31166375e-03,\n",
       "       -7.36969803e-03, -3.93285118e-02, -4.28661667e-02,  5.02188876e-02,\n",
       "       -7.40464171e-03, -5.68866432e-02,  5.33846859e-03,  3.50184068e-02,\n",
       "        1.88884884e-02, -4.82389443e-02,  3.63333337e-03,  1.33366324e-02,\n",
       "       -1.89559069e-02,  4.03822176e-02, -5.71284909e-03,  8.17456655e-03,\n",
       "       -2.20001880e-02,  2.79066451e-02,  1.96003933e-02,  5.11982478e-02,\n",
       "       -3.32557112e-02, -7.58821145e-02, -4.29779403e-02,  1.08225178e-03,\n",
       "       -5.08757904e-02,  3.68826874e-02, -2.24381723e-02,  3.49095315e-02,\n",
       "       -2.20317468e-02,  1.49713056e-02,  2.28578653e-02, -3.26428972e-02,\n",
       "        2.57524736e-02,  8.61562137e-03,  5.02989143e-02, -6.24799309e-03,\n",
       "        6.76065451e-03,  1.22456579e-02, -1.44039141e-02, -5.83047420e-02,\n",
       "        4.31118943e-02,  2.17534658e-02,  2.23541483e-02,  6.50341660e-02,\n",
       "        2.04926915e-02,  3.99475265e-03, -1.44675476e-02, -6.70716725e-03,\n",
       "        1.41357649e-02, -9.44380648e-03,  2.35049482e-02,  1.53233241e-02,\n",
       "        7.39799142e-02, -1.14700140e-03, -3.48851923e-03, -1.03725782e-02,\n",
       "        3.40211671e-03, -4.79600467e-02,  2.83910278e-02,  2.77066361e-02,\n",
       "        1.49514256e-02, -4.49695624e-02,  5.56359477e-02,  3.77952075e-03,\n",
       "       -5.59925009e-03,  2.35196855e-03, -4.98187840e-02,  3.17068095e-03,\n",
       "       -2.78122034e-02, -3.01844738e-02,  1.51548637e-02, -2.27324422e-02,\n",
       "        7.92880207e-02,  1.88582931e-02,  2.61318311e-02,  1.14564402e-02,\n",
       "        4.13303636e-02, -2.36488078e-02,  4.36804816e-02, -2.15378255e-02,\n",
       "        4.84718522e-03, -9.24434047e-03, -3.60645838e-02, -7.02270586e-03,\n",
       "       -1.44497398e-02, -1.61008686e-02, -4.21852618e-03, -7.23750293e-02,\n",
       "       -2.11819913e-02, -4.17188220e-02, -3.12143266e-02, -1.21270688e-02,\n",
       "       -7.05433835e-04, -4.29626219e-02,  4.82761748e-02,  1.43945096e-02,\n",
       "        1.12788538e-02, -7.34587982e-02, -4.89977337e-02,  1.38451112e-02,\n",
       "       -2.40283739e-02,  2.22876910e-02,  5.05694896e-02, -4.31617498e-02,\n",
       "       -5.26634529e-02, -2.59112213e-02,  6.72607124e-02, -2.56644860e-02,\n",
       "        9.20729060e-03, -2.58641317e-02,  1.41060529e-02, -3.88388038e-02,\n",
       "        5.11658490e-02,  3.37585397e-02, -1.32490657e-02, -2.70267334e-02,\n",
       "       -1.32479491e-02,  5.16884476e-02,  3.45955640e-02, -5.59878834e-02,\n",
       "        2.20120698e-02, -2.10488066e-02, -3.85140185e-03,  3.41837481e-02,\n",
       "        1.77218653e-02,  2.38837432e-02, -3.26970555e-02,  1.89121477e-02,\n",
       "        2.81648822e-02, -8.32371712e-02, -4.27805632e-02, -4.03514504e-02,\n",
       "       -5.72452843e-02,  7.34569207e-02, -1.27262867e-03,  1.56512652e-02,\n",
       "        3.63294333e-02, -5.53038670e-03,  3.43718752e-02, -2.50812937e-02,\n",
       "        2.23647133e-02,  3.57094593e-02,  3.18026207e-02,  4.76314686e-03,\n",
       "       -7.80694594e-04, -4.90656607e-02, -3.49355489e-02, -6.72908127e-03,\n",
       "        3.29202376e-02,  2.82651070e-03,  9.80418082e-03,  6.02281559e-03,\n",
       "        4.89552729e-02,  3.11768819e-02,  2.41515227e-03,  4.15781364e-02,\n",
       "        1.60384551e-02,  7.87751004e-03, -1.33695044e-02,  1.36456937e-02,\n",
       "        1.15330666e-02, -3.68945301e-03,  1.08033288e-02,  6.76241443e-02,\n",
       "        3.25602107e-02, -2.06350833e-02, -1.54660530e-02, -3.45248245e-02,\n",
       "       -2.77814921e-02, -3.87219191e-02, -1.20107392e-02,  5.24386391e-02,\n",
       "        1.13554124e-03, -7.51314859e-04, -1.84445665e-03, -2.59431894e-03,\n",
       "        2.03539021e-02,  3.14935371e-02, -2.29853913e-02,  9.87971295e-03,\n",
       "        4.47312035e-02,  2.36812066e-02, -1.40425069e-02,  1.68339163e-02,\n",
       "        4.89115342e-03, -1.76988803e-02, -2.37546023e-02,  4.26629297e-02,\n",
       "        3.15592475e-02, -1.03716224e-01, -3.18066105e-02, -3.43732014e-02,\n",
       "       -1.67966187e-02,  9.06481035e-03,  4.00428139e-02, -1.21138562e-02,\n",
       "       -7.45451823e-03,  3.26919816e-02,  3.60132121e-02,  6.05166890e-02,\n",
       "       -2.57028267e-02, -3.84931490e-02, -2.94969305e-02,  5.75847998e-02,\n",
       "        3.83184478e-02,  2.68390402e-02, -2.06281561e-02, -7.19656890e-33,\n",
       "        2.59428397e-02, -5.62245436e-02, -1.58755458e-03,  1.93017367e-02,\n",
       "       -2.02202406e-02,  2.64629144e-02, -4.26858524e-03, -1.80818122e-02,\n",
       "        7.31309177e-03, -7.14557990e-03, -8.64238199e-03, -7.55844172e-03,\n",
       "        6.49509067e-03,  2.07395456e-03,  4.16172221e-02,  4.13106196e-02,\n",
       "       -3.82386451e-03,  1.10818760e-03, -2.07675342e-02, -1.65507589e-02,\n",
       "       -4.17234190e-02,  8.19930166e-04,  5.38598411e-02, -5.13469502e-02,\n",
       "        6.62617683e-02,  2.32980587e-03,  1.61993708e-02, -2.29195692e-03,\n",
       "        1.61239207e-02,  3.44186136e-03,  3.00727636e-02, -6.88002678e-03,\n",
       "        9.56443232e-03, -9.00648609e-02, -1.40897203e-02,  4.11152318e-02,\n",
       "        1.20097687e-02, -3.07703670e-02,  5.79869412e-02,  4.12124135e-02,\n",
       "       -3.74782607e-02, -9.04661790e-02, -5.65296039e-02, -2.61859968e-02,\n",
       "       -3.42314132e-02, -3.49883884e-02,  3.29180853e-04, -8.09177011e-03,\n",
       "        2.16751117e-02, -6.15703948e-02,  1.39420899e-02,  1.73021164e-02,\n",
       "        1.83425378e-02, -3.50019671e-02,  2.12237090e-02,  8.95994008e-02,\n",
       "       -1.07687619e-02, -6.61730021e-02, -6.85270131e-02,  4.19084877e-02,\n",
       "       -6.86083967e-03,  4.72075529e-02, -8.46582092e-03, -2.83340067e-02,\n",
       "       -2.00911122e-03, -2.08103973e-02,  5.76559156e-02, -1.32382521e-02,\n",
       "        2.36355457e-02, -8.83034989e-03, -3.70068625e-02, -3.82905304e-02,\n",
       "       -7.23233726e-03,  6.37095002e-03, -4.46921140e-02, -3.20184119e-02,\n",
       "        1.08809536e-02,  2.97816880e-02, -8.11351277e-03,  3.17265056e-02,\n",
       "        1.36516162e-03, -1.37546761e-02,  3.07809096e-02,  2.81591341e-02,\n",
       "       -2.37230603e-02,  1.81862377e-02, -3.16647813e-02,  9.06037539e-03,\n",
       "       -4.80098724e-02,  1.64420474e-02, -8.84766039e-03, -1.78497122e-03,\n",
       "        2.39498857e-02, -4.73580770e-02,  2.37490516e-02,  2.93205231e-02,\n",
       "       -7.36380368e-02, -1.43442405e-02,  1.61015317e-02,  1.89165268e-02,\n",
       "       -3.34952809e-02,  2.07305606e-02, -7.22270310e-02,  1.12976089e-01,\n",
       "       -2.20523421e-02, -2.20300630e-02,  3.08451168e-02,  2.40372624e-02,\n",
       "       -1.29092019e-02,  8.12973827e-03,  1.26318429e-02,  4.17415192e-03,\n",
       "        2.81919111e-02, -7.68787488e-02,  2.73314980e-03,  2.47738641e-02,\n",
       "        3.53136957e-02,  2.72295196e-02,  6.62996760e-03, -9.57575720e-03,\n",
       "        1.72633678e-02,  8.05619657e-02, -1.66074429e-02,  3.91876101e-02,\n",
       "       -6.67487681e-02, -1.03256144e-02, -2.60766260e-02,  3.86082903e-02,\n",
       "       -3.09427809e-02, -3.06054559e-02,  2.28859708e-02, -6.26932010e-02,\n",
       "        2.73271894e-07, -2.45987643e-02,  2.98781488e-02, -3.35459970e-02,\n",
       "        1.77403428e-02,  4.35834378e-02,  2.80105453e-02,  2.89770793e-02,\n",
       "        2.07764488e-02, -2.62571424e-02,  3.41577791e-02, -2.63868831e-02,\n",
       "        1.49291661e-02,  2.17392575e-02,  1.40589895e-02, -3.24563012e-02,\n",
       "       -8.14335942e-02, -3.90670933e-02, -2.29049902e-02,  5.08511020e-03,\n",
       "       -6.16389737e-02, -1.63515732e-02, -2.52075552e-04,  2.19025780e-02,\n",
       "       -5.31892525e-03, -7.69836009e-02,  1.19116418e-02,  3.02778855e-02,\n",
       "       -3.31367142e-02,  1.08891875e-02, -9.15379822e-03,  4.67838719e-02,\n",
       "        4.82880585e-02, -1.79623738e-02, -2.99455430e-02,  1.56586524e-02,\n",
       "       -3.69965397e-02,  1.42404698e-02,  2.35502683e-02,  3.78516205e-02,\n",
       "        6.24642782e-02,  3.88652347e-02, -8.62375796e-02, -3.26545648e-02,\n",
       "       -8.48494917e-02,  1.92622207e-02,  2.56974362e-02, -5.84812500e-02,\n",
       "        4.58188467e-02, -5.23325102e-03, -3.57139520e-02,  4.82288674e-02,\n",
       "        2.42435792e-03, -1.30644171e-02,  4.07379270e-02,  5.66106802e-03,\n",
       "        1.71827581e-02, -9.64034535e-03,  1.19109103e-03,  5.21524698e-02,\n",
       "        2.72265580e-02,  3.26022087e-03, -3.63293067e-02,  9.53357480e-03,\n",
       "        2.76674982e-02,  2.58929431e-02, -1.67875048e-02,  2.41713058e-02,\n",
       "        1.97478413e-34, -3.15946564e-02, -5.69337197e-02,  1.42124705e-02,\n",
       "       -4.11080308e-02, -3.67029496e-02,  1.32961432e-02,  6.56245798e-02,\n",
       "       -6.56079268e-03,  3.72815542e-02, -4.93781306e-02, -1.35301088e-03],\n",
       "      dtype=float32)"
      ]
     },
     "execution_count": 7,
     "metadata": {},
     "output_type": "execute_result"
    }
   ],
   "source": [
    "embeddings = embedder_manager.infer_embeddings(\n",
    "    embed_from=text_to_embed,\n",
    "    method=\"bert\",\n",
    ")\n",
    "embeddings"
   ]
  },
  {
   "cell_type": "code",
   "execution_count": 8,
   "id": "0d3d74ee-0704-4bb7-8983-4e835dc9119b",
   "metadata": {
    "tags": []
   },
   "outputs": [],
   "source": [
    "def get_topic_embeddings(vector):\n",
    "\n",
    "    repr = \" \".join(\n",
    "        [f\"e{idx}|{val}\" for idx, val in enumerate(vector)]).rstrip()\n",
    "    return repr"
   ]
  },
  {
   "cell_type": "code",
   "execution_count": 9,
   "id": "591c2e5e-26fd-4642-b1f5-c180516ef636",
   "metadata": {
    "tags": []
   },
   "outputs": [
    {
     "data": {
      "text/plain": [
       "'e0|0.0031562834046781063 e1|0.010729094967246056 e2|0.0068130530416965485 e3|0.008726084604859352 e4|0.01073496975004673 e5|0.017477972432971 e6|-0.04445294663310051 e7|0.03694554418325424 e8|0.033908482640981674 e9|0.0097651993855834 e10|-0.005788399837911129 e11|0.03804692253470421 e12|-0.004806453827768564 e13|0.031690631061792374 e14|-0.04981332644820213 e15|-0.028519045561552048 e16|-0.04801619425415993 e17|-0.026355616748332977 e18|-0.03455446660518646 e19|-0.02450549043715 e20|-0.05654679983854294 e21|0.02127228118479252 e22|0.006611171644181013 e23|-0.02255699783563614 e24|0.032052814960479736 e25|-0.010409670881927013 e26|0.0776938796043396 e27|-0.016379745677113533 e28|0.007428979966789484 e29|-0.017890702933073044 e30|0.06805974990129471 e31|0.002670153509825468 e32|-0.054229915142059326 e33|0.03098929487168789 e34|1.9980980141554028e-06 e35|-0.0023003490641713142 e36|-0.012126185931265354 e37|0.006032558158040047 e38|0.002271883189678192 e39|-0.022661954164505005 e40|0.007232523988932371 e41|-0.038413263857364655 e42|0.011281847022473812 e43|0.013576699420809746 e44|-0.09679891914129257 e45|-0.03099723719060421 e46|0.05996657535433769 e47|-0.03492683544754982 e48|-0.0601932592689991 e49|0.012990739196538925 e50|0.016748318448662758 e51|-0.07422030717134476 e52|-0.017585070803761482 e53|-0.03057256154716015 e54|0.02361169643700123 e55|0.0032081259414553642 e56|-0.01037593837827444 e57|-0.01679166592657566 e58|0.08152110874652863 e59|0.029378747567534447 e60|0.04900611564517021 e61|-0.008953641168773174 e62|0.02762935310602188 e63|-0.061490919440984726 e64|-0.0705450102686882 e65|-0.006125929765403271 e66|0.02826724573969841 e67|-0.014530597254633904 e68|0.017395244911313057 e69|0.01938864029943943 e70|0.04708648845553398 e71|-0.009211035445332527 e72|0.03106713481247425 e73|0.13499270379543304 e74|-0.015927482396364212 e75|-0.012797381728887558 e76|-0.050826117396354675 e77|-0.02471066080033779 e78|0.015607266686856747 e79|-0.0571284219622612 e80|0.05131613835692406 e81|0.02009458653628826 e82|0.012141061946749687 e83|0.04271354526281357 e84|0.012563029304146767 e85|0.03967834636569023 e86|-0.0292807687073946 e87|-0.021422604098916054 e88|0.008209986612200737 e89|0.02278427965939045 e90|0.07012969255447388 e91|-0.034183308482170105 e92|-0.004509150516241789 e93|0.05293805152177811 e94|-0.00025121314683929086 e95|-0.03494793549180031 e96|0.01210959255695343 e97|0.007850716821849346 e98|0.00911473948508501 e99|-0.05693891644477844 e100|-0.07222595810890198 e101|-0.005999807268381119 e102|0.09170079231262207 e103|0.06981174647808075 e104|-0.040836043655872345 e105|-0.019587229937314987 e106|-0.024377962574362755 e107|0.01406579278409481 e108|-0.05543866008520126 e109|-0.0384877473115921 e110|-0.041628945618867874 e111|-0.004031593911349773 e112|-0.039421871304512024 e113|-0.02638014405965805 e114|0.05486593022942543 e115|0.035954348742961884 e116|0.004104012623429298 e117|-0.0025766626931726933 e118|0.004382013808935881 e119|0.01606796309351921 e120|0.010879816487431526 e121|0.0427340604364872 e122|0.011268737725913525 e123|-0.02293681725859642 e124|0.04322854056954384 e125|0.07466626167297363 e126|-0.040788982063531876 e127|0.04211188480257988 e128|-0.002290906850248575 e129|-0.07644503563642502 e130|-0.0007158847292885184 e131|0.0350809320807457 e132|-0.01969744823873043 e133|0.0007380492752417922 e134|0.003375184955075383 e135|0.029483109712600708 e136|-0.014500738121569157 e137|-0.016200831159949303 e138|0.03952893614768982 e139|-0.0642535462975502 e140|0.004447534214705229 e141|-0.09393729269504547 e142|-0.026490116491913795 e143|-0.01279016025364399 e144|0.009096312336623669 e145|-0.025776909664273262 e146|0.04350821673870087 e147|-0.01500000711530447 e148|-0.004111731890588999 e149|-0.030319884419441223 e150|0.03017270751297474 e151|-0.01937292516231537 e152|-0.07183092087507248 e153|-0.0583304688334465 e154|0.048596806824207306 e155|0.07375132292509079 e156|-0.02417444996535778 e157|0.013281258754432201 e158|0.03293726593255997 e159|0.015888068825006485 e160|-0.004382786341011524 e161|0.005616357084363699 e162|-0.027118582278490067 e163|-0.018063412979245186 e164|-0.022825639694929123 e165|-0.010075749829411507 e166|-0.032639455050230026 e167|0.03666037321090698 e168|0.032380107790231705 e169|0.04293447360396385 e170|-0.016448481008410454 e171|-0.054001715034246445 e172|0.004050748888403177 e173|0.12876906991004944 e174|0.03265298530459404 e175|-0.00645234901458025 e176|-0.012321186251938343 e177|-0.03791365027427673 e178|0.019774463027715683 e179|-0.07815218716859818 e180|0.04690700024366379 e181|-0.07829253375530243 e182|0.005939844064414501 e183|0.003421519184485078 e184|-0.06232868880033493 e185|0.021152466535568237 e186|-0.0006349415052682161 e187|-0.018251726403832436 e188|-0.06106134131550789 e189|-0.02487017586827278 e190|0.016282934695482254 e191|0.031117061153054237 e192|-0.05312103405594826 e193|0.00121111364569515 e194|0.017910784110426903 e195|0.023862052708864212 e196|0.04563499987125397 e197|-0.034454330801963806 e198|-0.011349594220519066 e199|0.04408323019742966 e200|-0.04509223252534866 e201|0.012574762105941772 e202|0.04066847637295723 e203|0.009586691856384277 e204|-0.027732405811548233 e205|0.03597477450966835 e206|0.0024084951728582382 e207|-0.004839913919568062 e208|-0.04752403497695923 e209|-0.007967505604028702 e210|-0.04195006564259529 e211|-0.00941058062016964 e212|-0.007438810542225838 e213|-0.021068667992949486 e214|-0.006216296926140785 e215|0.01788577251136303 e216|-0.0031511227134615183 e217|0.004419843200594187 e218|-0.056190747767686844 e219|0.11928705126047134 e220|0.0009170725243166089 e221|0.06093965098261833 e222|-0.002246004296466708 e223|-0.03723498061299324 e224|-0.02067369408905506 e225|-0.08913668990135193 e226|0.01890263706445694 e227|0.011955900117754936 e228|-0.019268283620476723 e229|-0.010348971001803875 e230|-0.01531810499727726 e231|-0.04106134548783302 e232|0.03369417414069176 e233|-0.005983251612633467 e234|0.03947486728429794 e235|0.059238139539957047 e236|0.004902095999568701 e237|-0.05025685206055641 e238|0.007240695878863335 e239|-0.05011536180973053 e240|0.018413102254271507 e241|-0.011299289762973785 e242|-0.0046287355944514275 e243|-0.01684056781232357 e244|0.0856446847319603 e245|-0.022409986704587936 e246|0.04706317558884621 e247|0.0031272966880351305 e248|-0.010878114029765129 e249|-0.07471062988042831 e250|0.05293196067214012 e251|0.038746509701013565 e252|-0.06305314600467682 e253|0.025483524426817894 e254|-0.004947245121002197 e255|0.03918122127652168 e256|-0.07510360330343246 e257|-0.057731062173843384 e258|-0.033696457743644714 e259|-0.033585503697395325 e260|0.0564495213329792 e261|0.00410443963482976 e262|0.029758377000689507 e263|-0.026076234877109528 e264|0.015957914292812347 e265|0.022735074162483215 e266|0.03689239174127579 e267|-0.019577087834477425 e268|0.02304553985595703 e269|0.009854594245553017 e270|-0.015781283378601074 e271|0.04951624944806099 e272|-0.01821947656571865 e273|0.02696884423494339 e274|-0.020294729620218277 e275|-0.017306437715888023 e276|0.01825748197734356 e277|-0.0066703311167657375 e278|-0.011450213380157948 e279|-0.02814527042210102 e280|0.0812491774559021 e281|0.0035891891457140446 e282|0.014955117367208004 e283|0.007146082352846861 e284|-0.015011806972324848 e285|0.05796772614121437 e286|0.05625547841191292 e287|-0.01164549496024847 e288|-0.028536533936858177 e289|0.008189600892364979 e290|-0.024873552843928337 e291|-0.04597790911793709 e292|0.03866051137447357 e293|-0.022856971248984337 e294|-0.026142526417970657 e295|0.03502024710178375 e296|-0.06990817189216614 e297|0.03305840119719505 e298|0.012966343201696873 e299|-0.0354645699262619 e300|0.006146264262497425 e301|0.050934914499521255 e302|0.016218535602092743 e303|-0.04947608336806297 e304|0.01044146902859211 e305|0.03030490316450596 e306|0.011568156071007252 e307|-0.09012255817651749 e308|0.030434314161539078 e309|0.06930888444185257 e310|0.04610222950577736 e311|0.016268393024802208 e312|-0.011439281515777111 e313|0.04868277162313461 e314|-0.045827317982912064 e315|-0.032240547239780426 e316|0.0333140566945076 e317|-0.008751248009502888 e318|-0.012753041461110115 e319|0.031561899930238724 e320|0.013569584116339684 e321|0.014422889798879623 e322|-0.020715832710266113 e323|0.024149972945451736 e324|-0.0037990978453308344 e325|-0.06888457387685776 e326|-0.0751534178853035 e327|-0.007564685307443142 e328|-0.032779719680547714 e329|-0.0062639438547194 e330|0.011906077153980732 e331|0.06230742484331131 e332|0.02818916365504265 e333|0.015714501962065697 e334|-0.04121287912130356 e335|-0.052739255130290985 e336|0.0005057772505097091 e337|-0.03809712827205658 e338|0.011647137813270092 e339|-0.008860099129378796 e340|0.018481161445379257 e341|-0.017236478626728058 e342|0.03261358663439751 e343|0.09245393425226212 e344|-0.024568015709519386 e345|0.06641765683889389 e346|-0.006741361692547798 e347|0.008311663754284382 e348|-0.007369698025286198 e349|-0.03932851180434227 e350|-0.042866166681051254 e351|0.050218887627124786 e352|-0.007404641713947058 e353|-0.056886643171310425 e354|0.005338468588888645 e355|0.03501840680837631 e356|0.01888848841190338 e357|-0.04823894426226616 e358|0.003633333370089531 e359|0.013336632400751114 e360|-0.018955906853079796 e361|0.04038221761584282 e362|-0.005712849088013172 e363|0.008174566552042961 e364|-0.022000188007950783 e365|0.027906645089387894 e366|0.019600393250584602 e367|0.05119824782013893 e368|-0.03325571119785309 e369|-0.07588211447000504 e370|-0.042977940291166306 e371|0.0010822517797350883 e372|-0.050875790417194366 e373|0.036882687360048294 e374|-0.0224381722509861 e375|0.034909531474113464 e376|-0.022031746804714203 e377|0.01497130561619997 e378|0.022857865318655968 e379|-0.032642897218465805 e380|0.0257524736225605 e381|0.008615621365606785 e382|0.050298914313316345 e383|-0.006247993092983961 e384|0.006760654505342245 e385|0.012245657853782177 e386|-0.014403914101421833 e387|-0.058304741978645325 e388|0.0431118942797184 e389|0.02175346575677395 e390|0.02235414832830429 e391|0.0650341659784317 e392|0.020492691546678543 e393|0.003994752652943134 e394|-0.01446754764765501 e395|-0.006707167252898216 e396|0.01413576491177082 e397|-0.009443806484341621 e398|0.023504948243498802 e399|0.015323324128985405 e400|0.07397991418838501 e401|-0.0011470013996586204 e402|-0.0034885192289948463 e403|-0.010372578166425228 e404|0.00340211670845747 e405|-0.04796004667878151 e406|0.028391027823090553 e407|0.027706636115908623 e408|0.014951425604522228 e409|-0.04496956244111061 e410|0.05563594773411751 e411|0.003779520746320486 e412|-0.0055992500856518745 e413|0.0023519685491919518 e414|-0.04981878399848938 e415|0.0031706809531897306 e416|-0.027812203392386436 e417|-0.03018447384238243 e418|0.015154863707721233 e419|-0.022732442244887352 e420|0.07928802073001862 e421|0.0188582930713892 e422|0.026131831109523773 e423|0.011456440202891827 e424|0.04133036360144615 e425|-0.023648807778954506 e426|0.04368048161268234 e427|-0.02153782546520233 e428|0.004847185220569372 e429|-0.009244340471923351 e430|-0.03606458380818367 e431|-0.007022705860435963 e432|-0.014449739828705788 e433|-0.016100868582725525 e434|-0.004218526184558868 e435|-0.07237502932548523 e436|-0.021181991323828697 e437|-0.041718821972608566 e438|-0.03121432662010193 e439|-0.01212706882506609 e440|-0.0007054338348098099 e441|-0.04296262189745903 e442|0.04827617481350899 e443|0.014394509606063366 e444|0.011278853751718998 e445|-0.07345879822969437 e446|-0.04899773374199867 e447|0.0138451112434268 e448|-0.024028373882174492 e449|0.02228769101202488 e450|0.05056948959827423 e451|-0.043161749839782715 e452|-0.05266345292329788 e453|-0.025911221280694008 e454|0.06726071238517761 e455|-0.02566448599100113 e456|0.009207290597259998 e457|-0.0258641317486763 e458|0.014106052927672863 e459|-0.03883880376815796 e460|0.05116584897041321 e461|0.03375853970646858 e462|-0.013249065726995468 e463|-0.02702673338353634 e464|-0.013247949071228504 e465|0.05168844759464264 e466|0.034595564007759094 e467|-0.0559878833591938 e468|0.022012069821357727 e469|-0.021048806607723236 e470|-0.0038514018524438143 e471|0.034183748066425323 e472|0.017721865326166153 e473|0.023883743211627007 e474|-0.032697055488824844 e475|0.018912147730588913 e476|0.028164882212877274 e477|-0.0832371711730957 e478|-0.0427805632352829 e479|-0.04035145044326782 e480|-0.05724528431892395 e481|0.07345692068338394 e482|-0.0012726286659017205 e483|0.015651265159249306 e484|0.03632943332195282 e485|-0.005530386697500944 e486|0.03437187522649765 e487|-0.025081293657422066 e488|0.02236471325159073 e489|0.03570945933461189 e490|0.031802620738744736 e491|0.004763146862387657 e492|-0.0007806945941410959 e493|-0.04906566068530083 e494|-0.03493554890155792 e495|-0.0067290812730789185 e496|0.0329202376306057 e497|0.0028265106957405806 e498|0.009804180823266506 e499|0.006022815592586994 e500|0.048955272883176804 e501|0.03117688186466694 e502|0.0024151522666215897 e503|0.04157813638448715 e504|0.016038455069065094 e505|0.007877510040998459 e506|-0.013369504362344742 e507|0.01364569365978241 e508|0.011533066630363464 e509|-0.0036894530057907104 e510|0.010803328827023506 e511|0.06762414425611496 e512|0.032560210675001144 e513|-0.020635083317756653 e514|-0.015466053038835526 e515|-0.0345248244702816 e516|-0.027781492099165916 e517|-0.03872191905975342 e518|-0.01201073918491602 e519|0.0524386391043663 e520|0.0011355412425473332 e521|-0.0007513148593716323 e522|-0.0018444566521793604 e523|-0.002594318939372897 e524|0.020353902131319046 e525|0.03149353712797165 e526|-0.022985391318798065 e527|0.00987971294671297 e528|0.044731203466653824 e529|0.02368120662868023 e530|-0.0140425069257617 e531|0.016833916306495667 e532|0.004891153424978256 e533|-0.017698880285024643 e534|-0.023754602298140526 e535|0.042662929743528366 e536|0.03155924752354622 e537|-0.10371622443199158 e538|-0.03180661052465439 e539|-0.0343732014298439 e540|-0.016796618700027466 e541|0.0090648103505373 e542|0.04004281386733055 e543|-0.01211385615170002 e544|-0.007454518228769302 e545|0.03269198164343834 e546|0.03601321205496788 e547|0.06051668897271156 e548|-0.0257028266787529 e549|-0.03849314898252487 e550|-0.029496930539608 e551|0.05758479982614517 e552|0.0383184477686882 e553|0.026839040219783783 e554|-0.020628156140446663 e555|-7.196568902933991e-33 e556|0.025942839682102203 e557|-0.05622454360127449 e558|-0.0015875545796006918 e559|0.01930173672735691 e560|-0.020220240578055382 e561|0.026462914422154427 e562|-0.004268585238605738 e563|-0.01808181218802929 e564|0.007313091773539782 e565|-0.007145579904317856 e566|-0.008642381988465786 e567|-0.00755844172090292 e568|0.006495090667158365 e569|0.0020739545579999685 e570|0.041617222130298615 e571|0.041310619562864304 e572|-0.003823864506557584 e573|0.0011081876000389457 e574|-0.020767534151673317 e575|-0.016550758853554726 e576|-0.04172341898083687 e577|0.0008199301664717495 e578|0.05385984107851982 e579|-0.051346950232982635 e580|0.06626176834106445 e581|0.002329805865883827 e582|0.016199370846152306 e583|-0.002291956916451454 e584|0.016123920679092407 e585|0.003441861364990473 e586|0.030072763562202454 e587|-0.006880026776343584 e588|0.009564432315528393 e589|-0.09006486088037491 e590|-0.014089720323681831 e591|0.041115231812000275 e592|0.01200976874679327 e593|-0.03077036701142788 e594|0.05798694118857384 e595|0.04121241346001625 e596|-0.037478260695934296 e597|-0.09046617895364761 e598|-0.05652960389852524 e599|-0.02618599683046341 e600|-0.034231413155794144 e601|-0.034988388419151306 e602|0.0003291808534413576 e603|-0.008091770112514496 e604|0.0216751117259264 e605|-0.06157039478421211 e606|0.01394208986312151 e607|0.017302116379141808 e608|0.01834253780543804 e609|-0.0350019671022892 e610|0.021223708987236023 e611|0.08959940075874329 e612|-0.010768761858344078 e613|-0.0661730021238327 e614|-0.06852701306343079 e615|0.04190848767757416 e616|-0.006860839668661356 e617|0.0472075529396534 e618|-0.008465820923447609 e619|-0.028334006667137146 e620|-0.002009111223742366 e621|-0.02081039734184742 e622|0.05765591561794281 e623|-0.013238252140581608 e624|0.02363554574549198 e625|-0.008830349892377853 e626|-0.037006862461566925 e627|-0.03829053044319153 e628|-0.007232337258756161 e629|0.006370950024574995 e630|-0.04469211399555206 e631|-0.03201841190457344 e632|0.010880953632295132 e633|0.029781688004732132 e634|-0.008113512769341469 e635|0.03172650560736656 e636|0.0013651616172865033 e637|-0.013754676096141338 e638|0.030780909582972527 e639|0.028159134089946747 e640|-0.02372306026518345 e641|0.018186237663030624 e642|-0.031664781272411346 e643|0.009060375392436981 e644|-0.04800987243652344 e645|0.01644204743206501 e646|-0.008847660385072231 e647|-0.0017849712166935205 e648|0.023949885740876198 e649|-0.04735807701945305 e650|0.023749051615595818 e651|0.029320523142814636 e652|-0.07363803684711456 e653|-0.014344240538775921 e654|0.01610153168439865 e655|0.018916526809334755 e656|-0.033495280891656876 e657|0.020730560645461082 e658|-0.07222703099250793 e659|0.1129760891199112 e660|-0.02205234207212925 e661|-0.022030062973499298 e662|0.030845116823911667 e663|0.024037262424826622 e664|-0.01290920190513134 e665|0.00812973827123642 e666|0.012631842866539955 e667|0.004174151923507452 e668|0.028191911056637764 e669|-0.07687874883413315 e670|0.0027331497985869646 e671|0.024773864075541496 e672|0.035313695669174194 e673|0.027229519560933113 e674|0.006629967596381903 e675|-0.009575757198035717 e676|0.017263367772102356 e677|0.08056196570396423 e678|-0.016607442870736122 e679|0.039187610149383545 e680|-0.06674876809120178 e681|-0.010325614362955093 e682|-0.026076626032590866 e683|0.03860829025506973 e684|-0.030942780897021294 e685|-0.030605455860495567 e686|0.022885970771312714 e687|-0.06269320100545883 e688|2.732718940023915e-07 e689|-0.02459876425564289 e690|0.029878148809075356 e691|-0.033545996993780136 e692|0.017740342766046524 e693|0.04358343780040741 e694|0.028010545298457146 e695|0.028977079316973686 e696|0.020776448771357536 e697|-0.026257142424583435 e698|0.034157779067754745 e699|-0.026386883109807968 e700|0.014929166063666344 e701|0.021739257499575615 e702|0.014058989472687244 e703|-0.032456301152706146 e704|-0.08143359422683716 e705|-0.039067093282938004 e706|-0.02290499024093151 e707|0.0050851101987063885 e708|-0.0616389736533165 e709|-0.016351573169231415 e710|-0.0002520755515433848 e711|0.021902577951550484 e712|-0.005318925250321627 e713|-0.07698360085487366 e714|0.01191164180636406 e715|0.030277885496616364 e716|-0.03313671424984932 e717|0.010889187455177307 e718|-0.009153798222541809 e719|0.046783871948719025 e720|0.04828805848956108 e721|-0.017962373793125153 e722|-0.02994554303586483 e723|0.015658652409911156 e724|-0.03699653968214989 e725|0.01424046978354454 e726|0.02355026826262474 e727|0.037851620465517044 e728|0.06246427819132805 e729|0.038865234702825546 e730|-0.0862375795841217 e731|-0.03265456482768059 e732|-0.08484949171543121 e733|0.019262220710515976 e734|0.025697436183691025 e735|-0.05848124995827675 e736|0.04581884667277336 e737|-0.0052332510240375996 e738|-0.03571395203471184 e739|0.04822886735200882 e740|0.0024243579246103764 e741|-0.01306441705673933 e742|0.040737926959991455 e743|0.005661068018525839 e744|0.017182758077979088 e745|-0.009640345349907875 e746|0.00119109102524817 e747|0.052152469754219055 e748|0.027226557955145836 e749|0.003260220866650343 e750|-0.03632930666208267 e751|0.009533574804663658 e752|0.027667498216032982 e753|0.025892943143844604 e754|-0.01678750477731228 e755|0.02417130582034588 e756|1.9747841324558832e-34 e757|-0.0315946564078331 e758|-0.05693371966481209 e759|0.0142124705016613 e760|-0.04110803082585335 e761|-0.036702949553728104 e762|0.013296143151819706 e763|0.06562457978725433 e764|-0.006560792680829763 e765|0.03728155419230461 e766|-0.049378130584955215 e767|-0.0013530108844861388'"
      ]
     },
     "execution_count": 9,
     "metadata": {},
     "output_type": "execute_result"
    }
   ],
   "source": [
    "get_topic_embeddings(embeddings)"
   ]
  },
  {
   "cell_type": "code",
   "execution_count": 8,
   "id": "8849705c-5f1a-4d40-a624-11201c32d47a",
   "metadata": {
    "tags": []
   },
   "outputs": [
    {
     "data": {
      "text/plain": [
       "<gensim.models.word2vec.Word2Vec at 0x7f8b300afa00>"
      ]
     },
     "execution_count": 8,
     "metadata": {},
     "output_type": "execute_result"
    }
   ],
   "source": [
    "from gensim.models import Word2Vec\n",
    "import gensim\n",
    "model = Word2Vec.load(model_path.as_posix())\n",
    "model"
   ]
  },
  {
   "cell_type": "code",
   "execution_count": 9,
   "id": "63bef0a8-4736-4a24-ae9d-328bbd8b57a3",
   "metadata": {
    "tags": []
   },
   "outputs": [
    {
     "data": {
      "text/plain": [
       "{'0': 0, 'servicio': 1, 'suministro': 2}"
      ]
     },
     "execution_count": 9,
     "metadata": {},
     "output_type": "execute_result"
    }
   ],
   "source": [
    "w2v_vocabulary = model.wv.key_to_index\n",
    "w2v_vocabulary"
   ]
  },
  {
   "cell_type": "code",
   "execution_count": 47,
   "id": "c9a1c985-2783-4bcc-8d52-94fca7445dfb",
   "metadata": {
    "tags": []
   },
   "outputs": [
    {
     "data": {
      "text/plain": [
       "1"
      ]
     },
     "execution_count": 47,
     "metadata": {},
     "output_type": "execute_result"
    }
   ],
   "source": [
    "len(text_to_embed)"
   ]
  },
  {
   "cell_type": "code",
   "execution_count": 50,
   "id": "8d53e91f-6ecd-4d0b-aa70-47d1a1bce21c",
   "metadata": {
    "tags": []
   },
   "outputs": [
    {
     "data": {
      "text/plain": [
       "1"
      ]
     },
     "execution_count": 50,
     "metadata": {},
     "output_type": "execute_result"
    }
   ],
   "source": [
    "len(text_to_embed[0].split())"
   ]
  },
  {
   "cell_type": "code",
   "execution_count": 56,
   "id": "f866321e-3959-4f38-9a2a-3af55dcb2d85",
   "metadata": {
    "tags": []
   },
   "outputs": [
    {
     "data": {
      "text/plain": [
       "'tecnología'"
      ]
     },
     "execution_count": 56,
     "metadata": {},
     "output_type": "execute_result"
    }
   ],
   "source": [
    "text_to_embed[0]"
   ]
  },
  {
   "cell_type": "code",
   "execution_count": 57,
   "id": "61c49451-092c-4acc-90ca-c112bc575a34",
   "metadata": {
    "tags": []
   },
   "outputs": [
    {
     "data": {
      "text/plain": [
       "array([ 0.10734555,  0.01215624,  0.00400424, -0.02668763, -0.0302623 ,\n",
       "        0.02550457,  0.07329754,  0.12234864, -0.08523038, -0.10385429,\n",
       "       -0.05870876,  0.05245255,  0.0169324 ,  0.16185823,  0.04423398,\n",
       "       -0.01250715,  0.00990727, -0.11320398, -0.0879251 ,  0.11983845,\n",
       "        0.08039548,  0.11318687, -0.12223151,  0.06723949,  0.10639454,\n",
       "        0.15960206, -0.1876041 ,  0.24212375,  0.05260561, -0.10786836,\n",
       "        0.05105869, -0.08912457, -0.00692888, -0.05244834, -0.11557231,\n",
       "        0.00754545,  0.16170181, -0.10178647, -0.02121967,  0.07991846,\n",
       "       -0.06204937, -0.01542895,  0.10142433, -0.0374144 , -0.04399973,\n",
       "       -0.01814846,  0.06073174,  0.09761722,  0.29768586, -0.04118699,\n",
       "       -0.00271281, -0.23372775, -0.01974202, -0.0358548 ,  0.01145208,\n",
       "       -0.0693877 ,  0.03982204,  0.11897231, -0.07148702,  0.08259813,\n",
       "        0.03194496, -0.06349308, -0.1212149 ,  0.1907617 , -0.00537109,\n",
       "       -0.07226662,  0.11852968,  0.02804635, -0.1309934 , -0.03147365,\n",
       "       -0.07478042, -0.0706492 , -0.01932225, -0.04490047,  0.10795087,\n",
       "       -0.02266245, -0.11589096, -0.00810246, -0.05365286,  0.04413819,\n",
       "        0.11841656,  0.04363523, -0.06311147, -0.05076882, -0.24078572,\n",
       "        0.05481411, -0.0617615 , -0.07735793, -0.0866229 , -0.10184959,\n",
       "       -0.06507917,  0.09730807,  0.04469414,  0.00380466,  0.02631235,\n",
       "        0.03868652, -0.05686873, -0.01578082, -0.03735897, -0.0250016 ,\n",
       "        0.02116636, -0.08294168, -0.09118698,  0.01023674, -0.2198672 ,\n",
       "        0.01774398,  0.07567344, -0.00155053,  0.10265425,  0.05337342,\n",
       "       -0.17518915,  0.00619508, -0.02469111, -0.00976794, -0.07257213,\n",
       "       -0.06458973,  0.09870327, -0.06326969, -0.02797607, -0.11457659,\n",
       "       -0.12529056,  0.06572323,  0.01560165,  0.13911027, -0.03109737,\n",
       "       -0.09689121, -0.01378102, -0.09350154, -0.1131788 ,  0.04657321,\n",
       "       -0.0189788 ,  0.09060238,  0.14197919,  0.14237452,  0.11363707,\n",
       "        0.00114073,  0.01807312, -0.19961193,  0.02618766, -0.01917803,\n",
       "       -0.01968711,  0.08094735, -0.00601411, -0.05479075,  0.07465833,\n",
       "       -0.00721266,  0.14097518,  0.06904149, -0.02343079, -0.2026189 ,\n",
       "       -0.06356669, -0.23712687,  0.01836408,  0.12276102,  0.11570968,\n",
       "        0.12499833, -0.12074378,  0.02710805,  0.11001852,  0.11232591,\n",
       "       -0.0059485 , -0.05321901, -0.07332099, -0.05268399,  0.01444565,\n",
       "        0.12452075, -0.01529385, -0.11465809, -0.01354359,  0.11929671,\n",
       "        0.07480982,  0.0173522 , -0.1066219 , -0.0008727 ,  0.011065  ,\n",
       "       -0.06539158,  0.16737667, -0.06139068, -0.10165069, -0.00327811,\n",
       "       -0.04004129,  0.00190428,  0.01193051,  0.1227113 , -0.06179861,\n",
       "        0.00284881,  0.0692038 , -0.07448582,  0.01875963,  0.0303515 ,\n",
       "       -0.11887758,  0.10011262, -0.02526836, -0.14811665,  0.08499969,\n",
       "       -0.08174378,  0.05271145,  0.143365  ,  0.07732852,  0.03471143],\n",
       "      dtype=float32)"
      ]
     },
     "execution_count": 57,
     "metadata": {},
     "output_type": "execute_result"
    }
   ],
   "source": [
    "model.wv[text_to_embed[0]]"
   ]
  },
  {
   "cell_type": "code",
   "execution_count": 16,
   "id": "61ba271f-168d-44ee-8830-912b8b78a9be",
   "metadata": {
    "tags": []
   },
   "outputs": [
    {
     "name": "stdout",
     "output_type": "stream",
     "text": [
      "/export/usuarios_ml4ds/lbartolome/NextProcurement/NP-Backend-Dockers\n"
     ]
    }
   ],
   "source": [
    "cd .."
   ]
  },
  {
   "cell_type": "code",
   "execution_count": 43,
   "id": "2a02ca51-dde2-40f1-b321-7d41a6a1ea22",
   "metadata": {
    "tags": []
   },
   "outputs": [],
   "source": [
    "import logging\n",
    "import requests\n",
    "\n",
    "\n",
    "class Response(object):\n",
    "    \"\"\"\n",
    "    A class to handle genereic API response and errors.\n",
    "    \"\"\"\n",
    "\n",
    "    def __init__(self,\n",
    "                 resp: requests.Response,\n",
    "                 logger: logging.Logger) -> None:\n",
    "\n",
    "        # Get JSON object of the result        \n",
    "        resp = resp.json()\n",
    "        print(resp.keys())\n",
    "\n",
    "        self.status_code = resp['responseHeader']['status']\n",
    "        self.time = resp['responseHeader']['time']\n",
    "        self.results = resp['response']\n",
    "\n",
    "        if self.status_code == 200:\n",
    "            logger.info(f\"-- -- Inferencer request acknowledged\")\n",
    "        else:\n",
    "            logger.info(\n",
    "                f\"-- -- Inference request generated an error: {self.results['error']}\")\n",
    "        return"
   ]
  },
  {
   "cell_type": "code",
   "execution_count": 44,
   "id": "62fd4a6c-317e-4e66-8fc3-f8b1a87067e6",
   "metadata": {
    "tags": []
   },
   "outputs": [],
   "source": [
    "import logging\n",
    "import os\n",
    "\n",
    "import requests\n",
    "\n",
    "\n",
    "class Client(object):\n",
    "    def __init__(self, logger: logging.Logger, logger_name: str) -> None:\n",
    "        \"\"\"\n",
    "        Parameters\n",
    "        ----------\n",
    "        logger : logging.Logger\n",
    "            The logger object to log messages and errors.\n",
    "        \"\"\"\n",
    "\n",
    "        if logger:\n",
    "            self.logger = logger\n",
    "        else:\n",
    "            import logging\n",
    "            logging.basicConfig(level='DEBUG')\n",
    "            self.logger = logging.getLogger('Inferencer')\n",
    "        return\n",
    "    \n",
    "    def _do_request(self,\n",
    "                    type: str,\n",
    "                    url: str,\n",
    "                    timeout: int = 10,\n",
    "                    **params) -> requests.Response:\n",
    "        \"\"\"Sends a request to an API.\n",
    "\n",
    "        Parameters\n",
    "        ----------\n",
    "        type : str\n",
    "            The type of the request.\n",
    "        url : str\n",
    "            The URL of the Inferencer API.\n",
    "        timeout : int, optional\n",
    "            The timeout of the request in seconds, by default 10.\n",
    "        **params: dict\n",
    "            The parameters of the request.\n",
    "            \n",
    "        Returns\n",
    "        -------\n",
    "        requests.Response: requests.Response\n",
    "            An object of the requests.Response class.\n",
    "        \"\"\"\n",
    "\n",
    "        # Send request\n",
    "        if type == \"get\":\n",
    "            resp = requests.get(\n",
    "                url=url,\n",
    "                timeout=timeout,\n",
    "                **params\n",
    "            )\n",
    "            pass\n",
    "        elif type == \"post\":\n",
    "            resp = requests.post(\n",
    "                url=url,\n",
    "                timeout=timeout,\n",
    "                **params\n",
    "            )\n",
    "        else:\n",
    "            self.logger.error(f\"-- -- Invalid type {type}\")\n",
    "            return\n",
    "\n",
    "        return resp"
   ]
  },
  {
   "cell_type": "code",
   "execution_count": 40,
   "id": "2c09913c-dced-4914-8856-f527e318c1f2",
   "metadata": {
    "tags": []
   },
   "outputs": [],
   "source": [
    "import logging\n",
    "import os\n",
    "\n",
    "import requests\n",
    "\n",
    "class NPToolsResponse(Response):\n",
    "    \"\"\"\n",
    "    A class to handle Inferencer API response and errors.\n",
    "    \"\"\"\n",
    "\n",
    "    def __init__(\n",
    "        self,\n",
    "        resp: requests.Response,\n",
    "        logger: logging.Logger\n",
    "    ) -> None:\n",
    "        \n",
    "        print(resp)\n",
    "        super().__init__(resp, logger)\n",
    "        return\n",
    "\n",
    "\n",
    "class NPToolsClient(Client):\n",
    "    \"\"\"\n",
    "    A class to handle NP Tools API requests.\n",
    "    \"\"\"\n",
    "\n",
    "    def __init__(\n",
    "        self,\n",
    "        logger: logging.Logger\n",
    "    ) -> None:\n",
    "        \"\"\"\n",
    "        Parameters\n",
    "        ----------\n",
    "        logger : logging.Logger\n",
    "            The logger object to log messages and errors.\n",
    "        \"\"\"\n",
    "\n",
    "        super().__init__(logger, \"NP Tools Client\")\n",
    "\n",
    "        # Get the NP Tools URL from the environment variables\n",
    "        self.nptools_url = \"http://kumo01:112\"#os.environ.get('NP_TOOLS_URL')\n",
    "\n",
    "        return\n",
    "\n",
    "    def _do_request(\n",
    "        self,\n",
    "        type: str,\n",
    "        url: str,\n",
    "        timeout: int = 10,\n",
    "        **params\n",
    "    ) -> NPToolsResponse:\n",
    "        \"\"\"Sends a request to the Inferencer API and returns an object of the NPToolsResponse class.\n",
    "\n",
    "        Parameters\n",
    "        ----------\n",
    "        type : str\n",
    "            The type of the request.\n",
    "        url : str\n",
    "            The URL of the Inferencer API.\n",
    "        timeout : int, optional\n",
    "            The timeout of the request in seconds, by default 10.\n",
    "        **params: dict\n",
    "            The parameters of the request.\n",
    "\n",
    "        Returns\n",
    "        -------\n",
    "        NPToolsResponse: NPToolsResponse\n",
    "            An object of the NPToolsResponse class.\n",
    "        \"\"\"\n",
    "\n",
    "        # Send request\n",
    "        resp = super()._do_request(type, url, timeout, **params)\n",
    "\n",
    "        # Parse NP Tools response\n",
    "        inf_resp = NPToolsResponse(resp, self.logger)\n",
    "\n",
    "        return inf_resp\n",
    "\n",
    "    def get_word_embedding(\n",
    "        self,\n",
    "        word_to_embed: str,\n",
    "        embedding_model: str,\n",
    "        model_for_embedding: str,\n",
    "        lang: str\n",
    "    ) -> NPToolsResponse:\n",
    "        \"\"\"Get the embedding of a word using the given model.\n",
    "\n",
    "        Parameters\n",
    "        ----------\n",
    "        word_to_embed : str\n",
    "            The word to embed.\n",
    "        embedding_model : str\n",
    "            The model to use for embedding (either 'word2vec' or 'bert')\n",
    "        model_for_embedding : str\n",
    "            The model to use for embedding, i.e., the topic model on the basis of which the embeddings where generated,\n",
    "        lang : str\n",
    "            The language of the text to be lemmatized (es/en)\n",
    "\n",
    "        Returns\n",
    "        -------\n",
    "        NPToolsResponse: NPToolsResponse\n",
    "            An object of the NPToolsResponse class.\n",
    "        \"\"\"\n",
    "\n",
    "        headers_ = {'Accept': 'application/json'}\n",
    "\n",
    "        params_ = {\n",
    "            'text_to_embed': word_to_embed,\n",
    "            'embedding_model': embedding_model,\n",
    "            'model': model_for_embedding,\n",
    "            'lang': lang\n",
    "        }\n",
    "\n",
    "        url_ = '{}/embedder/getEmbedding'.format(self.nptools_url)\n",
    "\n",
    "        # Send request to Inferencer\n",
    "        resp = self._do_request(\n",
    "            type=\"get\", url=url_, timeout=120, headers=headers_, params=params_)\n",
    "        \n",
    "        return resp\n"
   ]
  },
  {
   "cell_type": "code",
   "execution_count": 47,
   "id": "ac915f35-a0c0-4e00-b20a-da9d6eeb1986",
   "metadata": {
    "tags": []
   },
   "outputs": [],
   "source": [
    "import logging\n",
    "logging.basicConfig(level='DEBUG')\n",
    "logger = logging.getLogger('Inferencer')\n",
    "nptooler = NPToolsClient(logger)"
   ]
  },
  {
   "cell_type": "code",
   "execution_count": 48,
   "id": "d9a1bf18-57e5-4848-8452-8b83d2778a2f",
   "metadata": {
    "tags": []
   },
   "outputs": [
    {
     "name": "stderr",
     "output_type": "stream",
     "text": [
      "DEBUG:urllib3.connectionpool:Starting new HTTP connection (1): kumo01:112\n",
      "DEBUG:urllib3.connectionpool:http://kumo01:112 \"GET /embedder/getEmbedding?text_to_embed=tecnolog%C3%ADa&embedding_model=word2vec&model=Mallet_5_topics&lang=es HTTP/1.1\" 308 461\n",
      "DEBUG:urllib3.connectionpool:Resetting dropped connection: kumo01\n",
      "DEBUG:urllib3.connectionpool:http://kumo01:112 \"GET /embedder/getEmbedding/?text_to_embed=tecnolog%C3%ADa&embedding_model=word2vec&model=Mallet_5_topics&lang=es HTTP/1.1\" 200 5144\n",
      "INFO:Inferencer:-- -- Inferencer request acknowledged\n"
     ]
    },
    {
     "name": "stdout",
     "output_type": "stream",
     "text": [
      "<Response [200]>\n",
      "{'responseHeader': {'status': 200, 'time': 0.1170504093170166}, 'response': 'e0|0.10734555125236511 e1|0.012156243436038494 e2|0.004004235845059156 e3|-0.026687629520893097 e4|-0.030262300744652748 e5|0.025504566729068756 e6|0.07329753786325455 e7|0.12234864383935928 e8|-0.08523038029670715 e9|-0.10385429114103317 e10|-0.05870876461267471 e11|0.05245254561305046 e12|0.016932399943470955 e13|0.1618582308292389 e14|0.04423397779464722 e15|-0.012507149018347263 e16|0.009907267987728119 e17|-0.1132039800286293 e18|-0.08792509883642197 e19|0.11983845382928848 e20|0.08039548248052597 e21|0.11318686604499817 e22|-0.12223150581121445 e23|0.06723948568105698 e24|0.10639453679323196 e25|0.1596020609140396 e26|-0.18760409951210022 e27|0.24212375283241272 e28|0.052605606615543365 e29|-0.10786835849285126 e30|0.05105869099497795 e31|-0.08912456780672073 e32|-0.006928878836333752 e33|-0.0524483397603035 e34|-0.11557231098413467 e35|0.007545451167970896 e36|0.16170181334018707 e37|-0.10178647190332413 e38|-0.02121967263519764 e39|0.07991845905780792 e40|-0.062049370259046555 e41|-0.01542895007878542 e42|0.10142432898283005 e43|-0.03741440176963806 e44|-0.04399972781538963 e45|-0.01814846321940422 e46|0.060731738805770874 e47|0.09761722385883331 e48|0.2976858615875244 e49|-0.04118698835372925 e50|-0.0027128122746944427 e51|-0.23372775316238403 e52|-0.01974201574921608 e53|-0.035854797810316086 e54|0.011452075093984604 e55|-0.06938769668340683 e56|0.0398220419883728 e57|0.1189723089337349 e58|-0.07148701697587967 e59|0.08259813487529755 e60|0.03194495663046837 e61|-0.06349308043718338 e62|-0.12121489644050598 e63|0.19076170027256012 e64|-0.005371093284338713 e65|-0.07226661592721939 e66|0.11852968484163284 e67|0.028046345338225365 e68|-0.13099339604377747 e69|-0.03147365152835846 e70|-0.0747804194688797 e71|-0.07064919918775558 e72|-0.019322246313095093 e73|-0.044900473207235336 e74|0.10795086622238159 e75|-0.02266245149075985 e76|-0.11589096486568451 e77|-0.008102460764348507 e78|-0.05365285649895668 e79|0.044138189405202866 e80|0.11841656267642975 e81|0.043635230511426926 e82|-0.06311146914958954 e83|-0.05076881870627403 e84|-0.24078571796417236 e85|0.05481410771608353 e86|-0.06176150217652321 e87|-0.07735792547464371 e88|-0.08662290126085281 e89|-0.10184959322214127 e90|-0.06507917493581772 e91|0.09730806946754456 e92|0.044694144278764725 e93|0.003804655745625496 e94|0.026312345638871193 e95|0.03868652135133743 e96|-0.05686872825026512 e97|-0.015780819579958916 e98|-0.03735896572470665 e99|-0.02500160038471222 e100|0.02116636000573635 e101|-0.0829416811466217 e102|-0.09118697792291641 e103|0.010236742906272411 e104|-0.21986719965934753 e105|0.017743978649377823 e106|0.07567343860864639 e107|-0.0015505258925259113 e108|0.10265424847602844 e109|0.053373418748378754 e110|-0.17518915235996246 e111|0.006195080932229757 e112|-0.024691106751561165 e113|-0.00976793933659792 e114|-0.07257212698459625 e115|-0.0645897313952446 e116|0.09870327264070511 e117|-0.06326968967914581 e118|-0.02797607332468033 e119|-0.11457659304141998 e120|-0.12529055774211884 e121|0.0657232329249382 e122|0.015601648949086666 e123|0.139110267162323 e124|-0.03109736554324627 e125|-0.09689120948314667 e126|-0.01378102321177721 e127|-0.09350153803825378 e128|-0.1131787970662117 e129|0.0465732105076313 e130|-0.018978804349899292 e131|0.09060238301753998 e132|0.1419791877269745 e133|0.14237451553344727 e134|0.11363707482814789 e135|0.0011407267302274704 e136|0.01807311549782753 e137|-0.19961193203926086 e138|0.026187658309936523 e139|-0.019178027287125587 e140|-0.01968710869550705 e141|0.08094735443592072 e142|-0.006014110520482063 e143|-0.05479075387120247 e144|0.0746583342552185 e145|-0.007212664000689983 e146|0.14097517728805542 e147|0.06904149055480957 e148|-0.02343079075217247 e149|-0.20261889696121216 e150|-0.06356669217348099 e151|-0.23712687194347382 e152|0.018364079296588898 e153|0.12276101857423782 e154|0.11570968478918076 e155|0.12499833106994629 e156|-0.1207437813282013 e157|0.027108052745461464 e158|0.1100185215473175 e159|0.11232590675354004 e160|-0.0059484983794391155 e161|-0.053219009190797806 e162|-0.07332099229097366 e163|-0.0526839941740036 e164|0.014445647597312927 e165|0.12452074885368347 e166|-0.015293852426111698 e167|-0.11465808749198914 e168|-0.013543585315346718 e169|0.11929671466350555 e170|0.07480981945991516 e171|0.01735219545662403 e172|-0.10662189871072769 e173|-0.000872703967615962 e174|0.011064999736845493 e175|-0.06539157778024673 e176|0.16737666726112366 e177|-0.06139067932963371 e178|-0.10165068507194519 e179|-0.0032781113404780626 e180|-0.04004129394888878 e181|0.0019042842322960496 e182|0.01193050667643547 e183|0.12271130084991455 e184|-0.06179860979318619 e185|0.0028488116804510355 e186|0.06920380145311356 e187|-0.07448582351207733 e188|0.018759628757834435 e189|0.03035150282084942 e190|-0.1188775822520256 e191|0.10011262446641922 e192|-0.02526836469769478 e193|-0.14811664819717407 e194|0.0849996879696846 e195|-0.08174378424882889 e196|0.05271144583821297 e197|0.14336499571800232 e198|0.07732851803302765 e199|0.03471142798662186'}\n"
     ]
    }
   ],
   "source": [
    "resp = nptooler.get_word_embedding(\n",
    "    word_to_embed=\"tecnología\",\n",
    "    embedding_model=\"word2vec\",\n",
    "    model_for_embedding=\"Mallet_5_topics\",\n",
    "    lang=\"es\"\n",
    ")"
   ]
  },
  {
   "cell_type": "code",
   "execution_count": 50,
   "id": "cc4d2b61-fb33-4265-8ec8-f1398a833b19",
   "metadata": {
    "tags": []
   },
   "outputs": [
    {
     "data": {
      "text/plain": [
       "0.1170504093170166"
      ]
     },
     "execution_count": 50,
     "metadata": {},
     "output_type": "execute_result"
    }
   ],
   "source": [
    "resp.time"
   ]
  },
  {
   "cell_type": "code",
   "execution_count": 51,
   "id": "d68985d7-9eed-45b4-b769-db3b17138433",
   "metadata": {
    "tags": []
   },
   "outputs": [
    {
     "data": {
      "text/plain": [
       "200"
      ]
     },
     "execution_count": 51,
     "metadata": {},
     "output_type": "execute_result"
    }
   ],
   "source": [
    "resp.status_code"
   ]
  },
  {
   "cell_type": "code",
   "execution_count": 11,
   "id": "fc4c81fa-f6fa-4c40-a4b2-3559a5fe6406",
   "metadata": {
    "tags": []
   },
   "outputs": [],
   "source": [
    "corpus_path = pathlib.Path(\"/export/usuarios_ml4ds/lbartolome/NextProcurement/NP-Backend-Dockers/data/source/Mallet_5_topics/train_data/corpus.txt\")"
   ]
  },
  {
   "cell_type": "code",
   "execution_count": 12,
   "id": "f7eacbbe-c366-4531-bb78-a2a1611c8e85",
   "metadata": {
    "tags": []
   },
   "outputs": [],
   "source": [
    "class IterableSentence_fromfile(object):\n",
    "    def __init__(self, filename):\n",
    "        self.__filename = filename\n",
    "\n",
    "    def __iter__(self):\n",
    "        for line in open(self.__filename):\n",
    "            # assume there's one sentence per line, tokens separated by whitespace\n",
    "            yield line.split()\n",
    "\n",
    "# Create a memory-friendly iterator\n",
    "sentences = IterableSentence_fromfile(corpus_path)"
   ]
  },
  {
   "cell_type": "code",
   "execution_count": 14,
   "id": "8d592c57-d3ba-46a4-9fc4-857e60179988",
   "metadata": {
    "tags": []
   },
   "outputs": [],
   "source": [
    "model_w2v = Word2Vec(\n",
    "    sentences,\n",
    "    vector_size=200,  # Dimensionality of the word vectors\n",
    "    window=5,  # Context window size\n",
    "    min_count=10,  # Ignores all words with total frequency lower than this\n",
    "    sg=1,  # Training algorithm: 1 for skip-gram; otherwise CBOW\n",
    "    seed=42)"
   ]
  },
  {
   "cell_type": "code",
   "execution_count": 20,
   "id": "ee5002d6-feee-46e7-b09c-50fe75b94470",
   "metadata": {
    "tags": []
   },
   "outputs": [
    {
     "data": {
      "text/plain": [
       "1067"
      ]
     },
     "execution_count": 20,
     "metadata": {},
     "output_type": "execute_result"
    }
   ],
   "source": [
    "w2v_vocabulary = model_w2v.wv.key_to_index\n",
    "len(w2v_vocabulary)"
   ]
  },
  {
   "cell_type": "code",
   "execution_count": 6,
   "id": "68ae4886-e5e0-4eaa-9b61-c7187d0cadaf",
   "metadata": {
    "tags": []
   },
   "outputs": [],
   "source": [
    "from gensim.models import Word2Vec\n",
    "import gensim\n",
    "import pandas as pd\n",
    "import pathlib"
   ]
  },
  {
   "cell_type": "code",
   "execution_count": 1,
   "id": "0e9b4270-197f-4f62-88c3-3adb97028eaa",
   "metadata": {
    "tags": []
   },
   "outputs": [],
   "source": [
    "from gensim.test.utils import common_texts"
   ]
  },
  {
   "cell_type": "code",
   "execution_count": 22,
   "id": "e45f5480-2286-4fbb-9cea-0fcf8a8ba3c8",
   "metadata": {
    "tags": []
   },
   "outputs": [
    {
     "name": "stdout",
     "output_type": "stream",
     "text": [
      "['human', 'interface', 'computer']\n",
      "['survey', 'user', 'computer', 'system', 'response', 'time']\n",
      "['eps', 'user', 'interface', 'system']\n",
      "['system', 'human', 'system', 'eps']\n",
      "['user', 'response', 'time']\n",
      "['trees']\n",
      "['graph', 'trees']\n",
      "['graph', 'minors', 'trees']\n",
      "['graph', 'minors', 'survey']\n"
     ]
    }
   ],
   "source": [
    "for el in common_texts:\n",
    "    print(el)"
   ]
  },
  {
   "cell_type": "code",
   "execution_count": 7,
   "id": "8aa79588-d264-427d-9fb0-23557d14f562",
   "metadata": {
    "tags": []
   },
   "outputs": [],
   "source": [
    "column_name = \"lemmas\"\n",
    "class IterableSentence_fromfile(object):\n",
    "    def __init__(self, filename):\n",
    "        self.__filename = filename\n",
    "\n",
    "    def __iter__(self):\n",
    "        df = pd.read_parquet(self.__filename)[0:100]\n",
    "        if column_name not in df.columns:\n",
    "            raise ValueError(\n",
    "                f\"The column {column_name} does not exist in the file {self.__filename}.\")\n",
    "            return\n",
    "        for index, row in df.iterrows():\n",
    "            yield row[column_name].split()    "
   ]
  },
  {
   "cell_type": "code",
   "execution_count": 8,
   "id": "c8f4c47e-6466-4a71-9652-127ad0e8cbc7",
   "metadata": {
    "tags": []
   },
   "outputs": [],
   "source": [
    "path_df = pathlib.Path(\"/export/usuarios_ml4ds/lbartolome/Repos/my_repos/W2V_CTM/data/processed/s2cs_processed.parquet\")"
   ]
  },
  {
   "cell_type": "code",
   "execution_count": 9,
   "id": "10468304-3937-4fa0-8c97-1715ff2e53f5",
   "metadata": {
    "tags": []
   },
   "outputs": [],
   "source": [
    "sentences = IterableSentence_fromfile(path_df)"
   ]
  },
  {
   "cell_type": "code",
   "execution_count": 10,
   "id": "cca23f24-1acd-404c-b07a-9eca403075cf",
   "metadata": {
    "tags": []
   },
   "outputs": [],
   "source": [
    "model_w2v = Word2Vec(\n",
    "    sentences,\n",
    "    vector_size=200,  # Dimensionality of the word vectors\n",
    "    window=5,  # Context window size\n",
    "    min_count=10,  # Ignores all words with total frequency lower than this\n",
    "    sg=1,  # Training algorithm: 1 for skip-gram; otherwise CBOW\n",
    "    seed=42)"
   ]
  },
  {
   "cell_type": "code",
   "execution_count": 11,
   "id": "3c116da4-da38-49ba-bcaa-1d1a5f661170",
   "metadata": {
    "tags": []
   },
   "outputs": [
    {
     "data": {
      "text/plain": [
       "{'the': 0,\n",
       " 'information': 1,\n",
       " 'we': 2,\n",
       " 'paper': 3,\n",
       " 'based': 4,\n",
       " 'system': 5,\n",
       " 'technology': 6,\n",
       " 'algorithm': 7,\n",
       " 'model': 8,\n",
       " 'results': 9,\n",
       " 'performance': 10,\n",
       " 'proposed': 11,\n",
       " 'two': 12,\n",
       " 'this': 13,\n",
       " 'approach': 14,\n",
       " 'time': 15,\n",
       " 'network': 16,\n",
       " 'data': 17,\n",
       " 'method': 18,\n",
       " 'new': 19,\n",
       " 'image': 20,\n",
       " 'systems': 21,\n",
       " 'video': 22,\n",
       " 'different': 23,\n",
       " 'design': 24,\n",
       " 'user': 25,\n",
       " 'language': 26,\n",
       " 'number': 27,\n",
       " 'framework': 28,\n",
       " 'él': 29,\n",
       " 'novel': 30,\n",
       " 'users': 31,\n",
       " 'scheme': 32,\n",
       " 'datar': 33,\n",
       " 'environment': 34,\n",
       " 'support': 35,\n",
       " 'problem': 36,\n",
       " 'service': 37,\n",
       " 'networks': 38,\n",
       " 'software': 39,\n",
       " 'rate': 40,\n",
       " 'first': 41,\n",
       " 'dynamic': 42,\n",
       " 'well': 43,\n",
       " 'representation': 44,\n",
       " 'web': 45,\n",
       " 'communication': 46,\n",
       " 'develop': 47,\n",
       " 'channel': 48,\n",
       " 'analysis': 49,\n",
       " 'features': 50,\n",
       " 'resource': 51,\n",
       " 'similarity': 52,\n",
       " 'methods': 53,\n",
       " 'power': 54,\n",
       " 'existing': 55,\n",
       " 'complexity': 56,\n",
       " 'order': 57,\n",
       " 'local': 58,\n",
       " 'study': 59,\n",
       " 'providir': 60,\n",
       " 'algorithms': 61,\n",
       " 'solution': 62,\n",
       " 'wireless': 63,\n",
       " 'management': 64,\n",
       " 'applications': 65,\n",
       " 'quality': 66,\n",
       " 'need': 67,\n",
       " 'access': 68,\n",
       " 'text': 69,\n",
       " 'our': 70,\n",
       " 'natural': 71,\n",
       " 'application': 72,\n",
       " 'models': 73,\n",
       " 'experiments': 74,\n",
       " 'task': 75,\n",
       " 'efficient': 76,\n",
       " 'technique': 77,\n",
       " 'simple': 78,\n",
       " 'resources': 79,\n",
       " 'nod': 80,\n",
       " 'allocation': 81,\n",
       " 'theory': 82,\n",
       " 'learning': 83,\n",
       " 'semantic': 84,\n",
       " 'finally': 85,\n",
       " 'storage': 86,\n",
       " 'optimal': 87,\n",
       " 'size': 88,\n",
       " 'search': 89,\n",
       " 'code': 90,\n",
       " 'link': 91,\n",
       " 'computational': 92,\n",
       " 'random': 93,\n",
       " 'document': 94,\n",
       " 'protocol': 95,\n",
       " 'problems': 96,\n",
       " 'large': 97,\n",
       " 'mobile': 98,\n",
       " 'node': 99,\n",
       " 'high': 100,\n",
       " 'visual': 101,\n",
       " 'implementation': 102,\n",
       " 'complex': 103,\n",
       " 'capacity': 104,\n",
       " 'bandwidth': 105,\n",
       " 'feature': 106,\n",
       " 'query': 107,\n",
       " 'recognition': 108,\n",
       " 'development': 109,\n",
       " 'transmission': 110,\n",
       " 'important': 111,\n",
       " 'processing': 112,\n",
       " 'propose': 113,\n",
       " 'process': 114,\n",
       " 'images': 115,\n",
       " 'tool': 116,\n",
       " 'fuzzy': 117,\n",
       " 'synthesis': 118,\n",
       " 'bound': 119,\n",
       " 'low': 120,\n",
       " 'architecture': 121,\n",
       " 'level': 122,\n",
       " 'developed': 123,\n",
       " 'deviz': 124,\n",
       " 'research': 125,\n",
       " 'propo': 126,\n",
       " 'content': 127,\n",
       " 'memory': 128,\n",
       " 'however': 129,\n",
       " 'knowledge': 130,\n",
       " 'detection': 131,\n",
       " 'modeling': 132,\n",
       " 'work': 133,\n",
       " 'result': 134,\n",
       " 'estimation': 135,\n",
       " 'routing': 136,\n",
       " 'an': 137,\n",
       " 'motion': 138,\n",
       " 'initial': 139,\n",
       " 'efficiency': 140,\n",
       " 'function': 141,\n",
       " 'caching': 142,\n",
       " 'structure': 143,\n",
       " 'improve': 144,\n",
       " 'presented': 145,\n",
       " 'qos': 146,\n",
       " 'key': 147,\n",
       " 'particular': 148,\n",
       " 'current': 149,\n",
       " 'interaction': 150,\n",
       " 'main': 151,\n",
       " 'given': 152,\n",
       " 'using': 153,\n",
       " 'evaluation': 154,\n",
       " 'reducing': 155,\n",
       " 'path': 156,\n",
       " 'allows': 157,\n",
       " 'space': 158}"
      ]
     },
     "execution_count": 11,
     "metadata": {},
     "output_type": "execute_result"
    }
   ],
   "source": [
    "model_w2v.wv.key_to_index"
   ]
  },
  {
   "cell_type": "code",
   "execution_count": 1,
   "id": "1d7bc60a-df1e-4487-8284-4f0fef85eb20",
   "metadata": {
    "tags": []
   },
   "outputs": [
    {
     "name": "stdout",
     "output_type": "stream",
     "text": [
      "/export/usuarios_ml4ds/lbartolome/NextProcurement/NP-Backend-Dockers/np-tools\n"
     ]
    }
   ],
   "source": [
    "cd ../np-tools"
   ]
  },
  {
   "cell_type": "code",
   "execution_count": 2,
   "id": "8391afef-4db8-4d3e-957c-7f4fe4b4c6a0",
   "metadata": {
    "tags": []
   },
   "outputs": [],
   "source": [
    "from src.core.inferencer import Inferencer\n",
    "import pathlib"
   ]
  },
  {
   "cell_type": "code",
   "execution_count": 3,
   "id": "e74b5ef8-3b6b-40cb-bfbb-1476d70e1e7c",
   "metadata": {
    "tags": []
   },
   "outputs": [
    {
     "data": {
      "text/plain": [
       "PosixPath('/export/usuarios_ml4ds/lbartolome/NextProcurement/NP-Backend-Dockers/data/source/Mallet_5_topics/model.pickle')"
      ]
     },
     "execution_count": 3,
     "metadata": {},
     "output_type": "execute_result"
    }
   ],
   "source": [
    "model_for_infer = pathlib.Path(\"/data/source\") / \"Mallet_5_topics\"\n",
    "text_to_infer = \"Hola qué tal\"\n",
    "model_for_infer"
   ]
  },
  {
   "cell_type": "code",
   "execution_count": 4,
   "id": "d4f79aea-44d8-4eb3-ae06-cb2f2a50b2f4",
   "metadata": {
    "tags": []
   },
   "outputs": [],
   "source": [
    "import logging\n",
    "logging.basicConfig(level='DEBUG')\n",
    "logger = logging.getLogger('Inferencer')\n",
    "inferencer = Inferencer(logger=logger)"
   ]
  },
  {
   "cell_type": "code",
   "execution_count": 5,
   "id": "69d04a59-7adf-418e-82f1-4d785c2ce681",
   "metadata": {
    "tags": []
   },
   "outputs": [
    {
     "name": "stderr",
     "output_type": "stream",
     "text": [
      "INFO:Inferencer:/app/data/models/Mallet/Mallet_5_topics/model_data\n",
      "INFO:Inferencer:-- -- Model loaded from /export/usuarios_ml4ds/lbartolome/NextProcurement/NP-Backend-Dockers/data/source/Mallet_5_topics/model.pickle\n",
      "WARNING:app-log:There is no inferencer. Train model first.\n"
     ]
    },
    {
     "ename": "AttributeError",
     "evalue": "'NoneType' object has no attribute 'astype'",
     "output_type": "error",
     "traceback": [
      "\u001b[0;31m---------------------------------------------------------------------------\u001b[0m",
      "\u001b[0;31mAttributeError\u001b[0m                            Traceback (most recent call last)",
      "Cell \u001b[0;32mIn[5], line 1\u001b[0m\n\u001b[0;32m----> 1\u001b[0m \u001b[43minferencer\u001b[49m\u001b[38;5;241;43m.\u001b[39;49m\u001b[43mpredict\u001b[49m\u001b[43m(\u001b[49m\n\u001b[1;32m      2\u001b[0m \u001b[43m    \u001b[49m\u001b[43mtexts\u001b[49m\u001b[38;5;241;43m=\u001b[39;49m\u001b[43mtext_to_infer\u001b[49m\u001b[43m,\u001b[49m\n\u001b[1;32m      3\u001b[0m \u001b[43m    \u001b[49m\u001b[43mmodel_for_infer_path\u001b[49m\u001b[38;5;241;43m=\u001b[39;49m\u001b[43mmodel_for_infer\u001b[49m\n\u001b[1;32m      4\u001b[0m \u001b[43m)\u001b[49m\n",
      "File \u001b[0;32m/export/usuarios_ml4ds/lbartolome/NextProcurement/NP-Backend-Dockers/np-tools/src/core/inferencer.py:156\u001b[0m, in \u001b[0;36mInferencer.predict\u001b[0;34m(self, model_for_infer_path, texts, max_sum, thetas_thr)\u001b[0m\n\u001b[1;32m    151\u001b[0m \u001b[38;5;28mself\u001b[39m\u001b[38;5;241m.\u001b[39m_logger\u001b[38;5;241m.\u001b[39minfo(\u001b[38;5;124mf\u001b[39m\u001b[38;5;124m\"\u001b[39m\u001b[38;5;132;01m{\u001b[39;00mmodel\u001b[38;5;241m.\u001b[39m_model_data_dir\u001b[38;5;132;01m}\u001b[39;00m\u001b[38;5;124m\"\u001b[39m)\n\u001b[1;32m    153\u001b[0m \u001b[38;5;28mself\u001b[39m\u001b[38;5;241m.\u001b[39m_logger\u001b[38;5;241m.\u001b[39minfo(\n\u001b[1;32m    154\u001b[0m     \u001b[38;5;124mf\u001b[39m\u001b[38;5;124m'\u001b[39m\u001b[38;5;124m-- -- Model loaded from \u001b[39m\u001b[38;5;132;01m{\u001b[39;00mmodel_for_infer_path\u001b[38;5;132;01m}\u001b[39;00m\u001b[38;5;124m'\u001b[39m)\n\u001b[0;32m--> 156\u001b[0m infer_thetas \u001b[38;5;241m=\u001b[39m \u001b[43mmodel\u001b[49m\u001b[38;5;241;43m.\u001b[39;49m\u001b[43mpredict\u001b[49m\u001b[43m(\u001b[49m\u001b[43mtexts\u001b[49m\u001b[43m)\u001b[49m\n\u001b[1;32m    158\u001b[0m \u001b[38;5;28mself\u001b[39m\u001b[38;5;241m.\u001b[39m_logger\u001b[38;5;241m.\u001b[39minfo(\n\u001b[1;32m    159\u001b[0m     \u001b[38;5;124mf\u001b[39m\u001b[38;5;124m'\u001b[39m\u001b[38;5;124m-- -- Inference performed on the provided texts: \u001b[39m\u001b[38;5;132;01m{\u001b[39;00minfer_thetas\u001b[38;5;132;01m}\u001b[39;00m\u001b[38;5;124m'\u001b[39m)\n\u001b[1;32m    161\u001b[0m thetas32_rpr \u001b[38;5;241m=\u001b[39m \u001b[38;5;28msuper\u001b[39m()\u001b[38;5;241m.\u001b[39mget_final_thetas(\n\u001b[1;32m    162\u001b[0m     thetas32\u001b[38;5;241m=\u001b[39minfer_thetas,\n\u001b[1;32m    163\u001b[0m     thetas_thr\u001b[38;5;241m=\u001b[39mthetas_thr,\n\u001b[1;32m    164\u001b[0m     max_sum\u001b[38;5;241m=\u001b[39mmax_sum)\n",
      "File \u001b[0;32m/export/usuarios_ml4ds/lbartolome/NextProcurement/NP-Backend-Dockers/np-tools/src/TopicModeling/BaseModel.py:134\u001b[0m, in \u001b[0;36mBaseModel.predict\u001b[0;34m(self, texts)\u001b[0m\n\u001b[1;32m    132\u001b[0m probs \u001b[38;5;241m=\u001b[39m \u001b[38;5;28mself\u001b[39m\u001b[38;5;241m.\u001b[39m_model_predict(texts)\n\u001b[1;32m    133\u001b[0m \u001b[38;5;66;03m# Save infer data\u001b[39;00m\n\u001b[0;32m--> 134\u001b[0m \u001b[38;5;28;43mself\u001b[39;49m\u001b[38;5;241;43m.\u001b[39;49m\u001b[43m_save_infer_doctopics\u001b[49m\u001b[43m(\u001b[49m\u001b[43mprobs\u001b[49m\u001b[43m)\u001b[49m\n",
      "File \u001b[0;32m/export/usuarios_ml4ds/lbartolome/NextProcurement/NP-Backend-Dockers/np-tools/src/TopicModeling/BaseModel.py:185\u001b[0m, in \u001b[0;36mBaseModel._save_infer_doctopics\u001b[0;34m(self, doctopics, sep)\u001b[0m\n\u001b[1;32m    180\u001b[0m \u001b[38;5;28;01mdef\u001b[39;00m \u001b[38;5;21m_save_infer_doctopics\u001b[39m(\u001b[38;5;28mself\u001b[39m, doctopics: np\u001b[38;5;241m.\u001b[39mndarray, sep\u001b[38;5;241m=\u001b[39m\u001b[38;5;124m\"\u001b[39m\u001b[38;5;130;01m\\t\u001b[39;00m\u001b[38;5;124m\"\u001b[39m):\n\u001b[1;32m    181\u001b[0m     \u001b[38;5;28;01mwith\u001b[39;00m \u001b[38;5;28mself\u001b[39m\u001b[38;5;241m.\u001b[39m_temp_dir\u001b[38;5;241m.\u001b[39mjoinpath(\u001b[38;5;124m\"\u001b[39m\u001b[38;5;124mdoc-topics.txt\u001b[39m\u001b[38;5;124m\"\u001b[39m)\u001b[38;5;241m.\u001b[39mopen(\u001b[38;5;124m\"\u001b[39m\u001b[38;5;124mw\u001b[39m\u001b[38;5;124m\"\u001b[39m, encoding\u001b[38;5;241m=\u001b[39m\u001b[38;5;124m\"\u001b[39m\u001b[38;5;124mutf8\u001b[39m\u001b[38;5;124m\"\u001b[39m) \u001b[38;5;28;01mas\u001b[39;00m f:\n\u001b[1;32m    182\u001b[0m         f\u001b[38;5;241m.\u001b[39mwritelines(\n\u001b[1;32m    183\u001b[0m             [\n\u001b[1;32m    184\u001b[0m                 \u001b[38;5;124mf\u001b[39m\u001b[38;5;124m\"\u001b[39m\u001b[38;5;132;01m{\u001b[39;00mn\u001b[38;5;132;01m}\u001b[39;00m\u001b[38;5;132;01m{\u001b[39;00msep\u001b[38;5;132;01m}\u001b[39;00m\u001b[38;5;132;01m{\u001b[39;00mn\u001b[38;5;132;01m}\u001b[39;00m\u001b[38;5;132;01m{\u001b[39;00msep\u001b[38;5;132;01m}\u001b[39;00m\u001b[38;5;132;01m{\u001b[39;00msep\u001b[38;5;241m.\u001b[39mjoin(t)\u001b[38;5;132;01m}\u001b[39;00m\u001b[38;5;130;01m\\n\u001b[39;00m\u001b[38;5;124m\"\u001b[39m\n\u001b[0;32m--> 185\u001b[0m                 \u001b[38;5;28;01mfor\u001b[39;00m n, t \u001b[38;5;129;01min\u001b[39;00m \u001b[38;5;28menumerate\u001b[39m(\u001b[43mdoctopics\u001b[49m\u001b[38;5;241;43m.\u001b[39;49m\u001b[43mastype\u001b[49m(\u001b[38;5;28mstr\u001b[39m))\n\u001b[1;32m    186\u001b[0m             ]\n\u001b[1;32m    187\u001b[0m         )\n\u001b[1;32m    188\u001b[0m     shutil\u001b[38;5;241m.\u001b[39mcopy(\n\u001b[1;32m    189\u001b[0m         \u001b[38;5;28mself\u001b[39m\u001b[38;5;241m.\u001b[39m_temp_dir\u001b[38;5;241m.\u001b[39mjoinpath(\u001b[38;5;124m\"\u001b[39m\u001b[38;5;124mdoc-topics.txt\u001b[39m\u001b[38;5;124m\"\u001b[39m),\n\u001b[1;32m    190\u001b[0m         \u001b[38;5;28mself\u001b[39m\u001b[38;5;241m.\u001b[39m_infer_data_dir\u001b[38;5;241m.\u001b[39mjoinpath(\u001b[38;5;124m\"\u001b[39m\u001b[38;5;124mdoc-topics.txt\u001b[39m\u001b[38;5;124m\"\u001b[39m),\n\u001b[1;32m    191\u001b[0m     )\n\u001b[1;32m    192\u001b[0m     \u001b[38;5;28mself\u001b[39m\u001b[38;5;241m.\u001b[39mlogger\u001b[38;5;241m.\u001b[39minfo(\u001b[38;5;124m\"\u001b[39m\u001b[38;5;124mSaved infer doctopics\u001b[39m\u001b[38;5;124m\"\u001b[39m)\n",
      "\u001b[0;31mAttributeError\u001b[0m: 'NoneType' object has no attribute 'astype'"
     ]
    }
   ],
   "source": [
    "inferencer.predict(\n",
    "    texts=text_to_infer,\n",
    "    model_for_infer_path=model_for_infer\n",
    ")"
   ]
  },
  {
   "cell_type": "code",
   "execution_count": 2,
   "id": "285eb7d8-5b3b-471f-9349-74f59732e067",
   "metadata": {},
   "outputs": [],
   "source": [
    "import numpy as np\n",
    "\n",
    "thetas32 = np.array([[0.18759869, 0.24489588, 0.21003104, 0.24878265, 0.10869174],\n",
    "                     [0.18759869, 0.24489588, 0.21003104, 0.24878265, 0.10869174],\n",
    "                     [0.18759869, 0.24489588, 0.21003104, 0.24878265, 0.10869174],\n",
    "                     [0.18759869, 0.24489588, 0.21003104, 0.24878265, 0.10869174],\n",
    "                     [0.18759869, 0.24489588, 0.21003104, 0.24878265, 0.10869174],\n",
    "                     [0.18759869, 0.24489588, 0.21003104, 0.24878265, 0.10869174],\n",
    "                     [0.18759869, 0.24489588, 0.21003104, 0.24878265, 0.10869174],\n",
    "                     [0.18759869, 0.24489588, 0.21003104, 0.24878265, 0.10869174],\n",
    "                     [0.18759869, 0.24489588, 0.21003104, 0.24878265, 0.10869174],\n",
    "                     [0.18759869, 0.24489588, 0.21003104, 0.24878265, 0.10869174],\n",
    "                     [0.18759869, 0.24489588, 0.21003104, 0.24878265, 0.10869174],\n",
    "                     [0.18759869, 0.24489588, 0.21003104, 0.24878265, 0.10869174]])\n"
   ]
  },
  {
   "cell_type": "code",
   "execution_count": 6,
   "id": "07b64f0e-d01e-42aa-bd04-a61fc3a686a8",
   "metadata": {
    "tags": []
   },
   "outputs": [],
   "source": [
    "def sum_up_to(vector: np.ndarray, max_sum: int) -> np.ndarray:\n",
    "    \"\"\"It takes in a vector and a max_sum value and returns a NumPy array with the same shape as vector but with the values adjusted such that their sum is equal to max_sum.\n",
    "\n",
    "    Parameters\n",
    "    ----------\n",
    "    vector: \n",
    "        The vector to be adjusted.\n",
    "    max_sum: int\n",
    "        Number representing the maximum sum of the vector elements.\n",
    "\n",
    "    Returns:\n",
    "    --------\n",
    "    x: np.ndarray\n",
    "        A NumPy array of the same shape as vector but with the values adjusted such that their sum is equal to max_sum.\n",
    "    \"\"\"\n",
    "    x = np.array(list(map(np.int_, vector*max_sum))).ravel()\n",
    "    pos_idx = list(np.where(x != 0)[0])\n",
    "    while np.sum(x) != max_sum:\n",
    "        idx = random.choice(pos_idx)\n",
    "        x[idx] += 1\n",
    "    return x"
   ]
  },
  {
   "cell_type": "code",
   "execution_count": 9,
   "id": "9fdff5fe-d797-4de4-ac98-0681330a2aec",
   "metadata": {
    "tags": []
   },
   "outputs": [],
   "source": [
    "import random"
   ]
  },
  {
   "cell_type": "code",
   "execution_count": 7,
   "id": "7023a2c1-c2be-441f-bac9-eca7fcf0dba4",
   "metadata": {
    "tags": []
   },
   "outputs": [],
   "source": [
    "def get_doc_str_rpr(vector: np.array, max_sum: int) -> str:\n",
    "    \"\"\"Calculates the string representation of a document's topic proportions in the format 't0|100 t1|200 ...', so that the sum of the topic proportions is at most max_sum.\n",
    "\n",
    "    Parameters\n",
    "    ----------\n",
    "    vector: numpy.array\n",
    "        Array with the topic proportions of a document.\n",
    "    max_sum: int\n",
    "        Maximum sum of the topic proportions.\n",
    "\n",
    "    Returns \n",
    "    -------\n",
    "    rpr: str\n",
    "        String representation of the document's topic proportions.\n",
    "    \"\"\"\n",
    "    vector = sum_up_to(vector, max_sum)\n",
    "    rpr = \"\"\n",
    "    for idx, val in enumerate(vector):\n",
    "        if val != 0:\n",
    "            rpr += \"t\" + str(idx) + \"|\" + str(val) + \" \"\n",
    "    rpr = rpr.rstrip()\n",
    "    return rpr"
   ]
  },
  {
   "cell_type": "code",
   "execution_count": 11,
   "id": "2fbf2b0c-8205-4626-8adf-02f1c31b252f",
   "metadata": {
    "tags": []
   },
   "outputs": [
    {
     "data": {
      "text/plain": [
       "['t0|189 t1|245 t2|210 t3|248 t4|108',\n",
       " 't0|187 t1|245 t2|210 t3|249 t4|109',\n",
       " 't0|189 t1|244 t2|210 t3|249 t4|108',\n",
       " 't0|188 t1|244 t2|211 t3|248 t4|109',\n",
       " 't0|188 t1|244 t2|211 t3|248 t4|109',\n",
       " 't0|188 t1|245 t2|210 t3|249 t4|108',\n",
       " 't0|188 t1|244 t2|210 t3|248 t4|110',\n",
       " 't0|188 t1|245 t2|211 t3|248 t4|108',\n",
       " 't0|188 t1|244 t2|210 t3|249 t4|109',\n",
       " 't0|188 t1|245 t2|210 t3|249 t4|108',\n",
       " 't0|189 t1|244 t2|210 t3|249 t4|108',\n",
       " 't0|187 t1|245 t2|211 t3|249 t4|108']"
      ]
     },
     "execution_count": 11,
     "metadata": {},
     "output_type": "execute_result"
    }
   ],
   "source": [
    "doc_tpc_rpr = [get_doc_str_rpr(thetas32[row, :], 1000) for row in range(len(thetas32))]\n",
    "doc_tpc_rpr"
   ]
  }
 ],
 "metadata": {
  "kernelspec": {
   "display_name": "Python 3 (ipykernel)",
   "language": "python",
   "name": "python3"
  },
  "language_info": {
   "codemirror_mode": {
    "name": "ipython",
    "version": 3
   },
   "file_extension": ".py",
   "mimetype": "text/x-python",
   "name": "python",
   "nbconvert_exporter": "python",
   "pygments_lexer": "ipython3",
   "version": "3.10.11"
  }
 },
 "nbformat": 4,
 "nbformat_minor": 5
}
